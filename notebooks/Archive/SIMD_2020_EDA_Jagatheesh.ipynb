{
 "cells": [
  {
   "cell_type": "markdown",
   "metadata": {},
   "source": [
    "### 1. Importing the required libraries"
   ]
  },
  {
   "cell_type": "code",
   "execution_count": 3,
   "metadata": {},
   "outputs": [],
   "source": [
    "import pandas as pd\n",
    "import numpy as np\n",
    "import sweetviz as sv"
   ]
  },
  {
   "cell_type": "markdown",
   "metadata": {},
   "source": [
    "### 2. Data Ingestion"
   ]
  },
  {
   "cell_type": "code",
   "execution_count": 2,
   "metadata": {},
   "outputs": [],
   "source": [
    "simd2020=pd.read_csv('../data/SIMD_2020_Data.csv')"
   ]
  },
  {
   "cell_type": "markdown",
   "metadata": {},
   "source": [
    "### 3. Investigating multiple columns that seem to quantify the SIMD"
   ]
  },
  {
   "cell_type": "markdown",
   "metadata": {},
   "source": [
    "##### There are 12 columns that have numerical values pertaining to the SIMD. Since there is no sufficient information to make sense of these variables we choose not to use them."
   ]
  },
  {
   "cell_type": "code",
   "execution_count": 3,
   "metadata": {},
   "outputs": [
    {
     "data": {
      "text/html": [
       "<div>\n",
       "<style scoped>\n",
       "    .dataframe tbody tr th:only-of-type {\n",
       "        vertical-align: middle;\n",
       "    }\n",
       "\n",
       "    .dataframe tbody tr th {\n",
       "        vertical-align: top;\n",
       "    }\n",
       "\n",
       "    .dataframe thead th {\n",
       "        text-align: right;\n",
       "    }\n",
       "</style>\n",
       "<table border=\"1\" class=\"dataframe\">\n",
       "  <thead>\n",
       "    <tr style=\"text-align: right;\">\n",
       "      <th></th>\n",
       "      <th>simd2020v2</th>\n",
       "      <th>simd_2020v</th>\n",
       "      <th>simd2020_1</th>\n",
       "      <th>simd2020_2</th>\n",
       "      <th>simd2020_3</th>\n",
       "      <th>simd2020_4</th>\n",
       "      <th>simd2020_e</th>\n",
       "      <th>simd2020_h</th>\n",
       "      <th>simd2020_5</th>\n",
       "      <th>simd2020_a</th>\n",
       "      <th>simd2020_c</th>\n",
       "      <th>simd2020_6</th>\n",
       "    </tr>\n",
       "  </thead>\n",
       "  <tbody>\n",
       "    <tr>\n",
       "      <th>0</th>\n",
       "      <td>90.0</td>\n",
       "      <td>2.0</td>\n",
       "      <td>1.0</td>\n",
       "      <td>1.0</td>\n",
       "      <td>1.0</td>\n",
       "      <td>167.0</td>\n",
       "      <td>48.0</td>\n",
       "      <td>299.0</td>\n",
       "      <td>102.0</td>\n",
       "      <td>4235.0</td>\n",
       "      <td>867.0</td>\n",
       "      <td>943.0</td>\n",
       "    </tr>\n",
       "    <tr>\n",
       "      <th>1</th>\n",
       "      <td>462.0</td>\n",
       "      <td>7.0</td>\n",
       "      <td>2.0</td>\n",
       "      <td>1.0</td>\n",
       "      <td>1.0</td>\n",
       "      <td>223.0</td>\n",
       "      <td>681.0</td>\n",
       "      <td>650.0</td>\n",
       "      <td>719.0</td>\n",
       "      <td>4096.0</td>\n",
       "      <td>1144.0</td>\n",
       "      <td>1008.0</td>\n",
       "    </tr>\n",
       "    <tr>\n",
       "      <th>2</th>\n",
       "      <td>173.0</td>\n",
       "      <td>3.0</td>\n",
       "      <td>1.0</td>\n",
       "      <td>1.0</td>\n",
       "      <td>1.0</td>\n",
       "      <td>85.0</td>\n",
       "      <td>251.0</td>\n",
       "      <td>228.0</td>\n",
       "      <td>276.0</td>\n",
       "      <td>4669.0</td>\n",
       "      <td>1478.0</td>\n",
       "      <td>1212.0</td>\n",
       "    </tr>\n",
       "    <tr>\n",
       "      <th>3</th>\n",
       "      <td>164.0</td>\n",
       "      <td>3.0</td>\n",
       "      <td>1.0</td>\n",
       "      <td>1.0</td>\n",
       "      <td>1.0</td>\n",
       "      <td>216.0</td>\n",
       "      <td>133.0</td>\n",
       "      <td>174.0</td>\n",
       "      <td>292.0</td>\n",
       "      <td>3904.0</td>\n",
       "      <td>986.0</td>\n",
       "      <td>1112.0</td>\n",
       "    </tr>\n",
       "    <tr>\n",
       "      <th>4</th>\n",
       "      <td>278.0</td>\n",
       "      <td>4.0</td>\n",
       "      <td>1.0</td>\n",
       "      <td>1.0</td>\n",
       "      <td>1.0</td>\n",
       "      <td>334.0</td>\n",
       "      <td>378.0</td>\n",
       "      <td>324.0</td>\n",
       "      <td>213.0</td>\n",
       "      <td>3625.0</td>\n",
       "      <td>838.0</td>\n",
       "      <td>1843.0</td>\n",
       "    </tr>\n",
       "    <tr>\n",
       "      <th>...</th>\n",
       "      <td>...</td>\n",
       "      <td>...</td>\n",
       "      <td>...</td>\n",
       "      <td>...</td>\n",
       "      <td>...</td>\n",
       "      <td>...</td>\n",
       "      <td>...</td>\n",
       "      <td>...</td>\n",
       "      <td>...</td>\n",
       "      <td>...</td>\n",
       "      <td>...</td>\n",
       "      <td>...</td>\n",
       "    </tr>\n",
       "    <tr>\n",
       "      <th>1115</th>\n",
       "      <td>NaN</td>\n",
       "      <td>NaN</td>\n",
       "      <td>NaN</td>\n",
       "      <td>NaN</td>\n",
       "      <td>NaN</td>\n",
       "      <td>NaN</td>\n",
       "      <td>NaN</td>\n",
       "      <td>NaN</td>\n",
       "      <td>NaN</td>\n",
       "      <td>NaN</td>\n",
       "      <td>NaN</td>\n",
       "      <td>NaN</td>\n",
       "    </tr>\n",
       "    <tr>\n",
       "      <th>1116</th>\n",
       "      <td>NaN</td>\n",
       "      <td>NaN</td>\n",
       "      <td>NaN</td>\n",
       "      <td>NaN</td>\n",
       "      <td>NaN</td>\n",
       "      <td>NaN</td>\n",
       "      <td>NaN</td>\n",
       "      <td>NaN</td>\n",
       "      <td>NaN</td>\n",
       "      <td>NaN</td>\n",
       "      <td>NaN</td>\n",
       "      <td>NaN</td>\n",
       "    </tr>\n",
       "    <tr>\n",
       "      <th>1117</th>\n",
       "      <td>NaN</td>\n",
       "      <td>NaN</td>\n",
       "      <td>NaN</td>\n",
       "      <td>NaN</td>\n",
       "      <td>NaN</td>\n",
       "      <td>NaN</td>\n",
       "      <td>NaN</td>\n",
       "      <td>NaN</td>\n",
       "      <td>NaN</td>\n",
       "      <td>NaN</td>\n",
       "      <td>NaN</td>\n",
       "      <td>NaN</td>\n",
       "    </tr>\n",
       "    <tr>\n",
       "      <th>1118</th>\n",
       "      <td>NaN</td>\n",
       "      <td>NaN</td>\n",
       "      <td>NaN</td>\n",
       "      <td>NaN</td>\n",
       "      <td>NaN</td>\n",
       "      <td>NaN</td>\n",
       "      <td>NaN</td>\n",
       "      <td>NaN</td>\n",
       "      <td>NaN</td>\n",
       "      <td>NaN</td>\n",
       "      <td>NaN</td>\n",
       "      <td>NaN</td>\n",
       "    </tr>\n",
       "    <tr>\n",
       "      <th>1119</th>\n",
       "      <td>NaN</td>\n",
       "      <td>NaN</td>\n",
       "      <td>NaN</td>\n",
       "      <td>NaN</td>\n",
       "      <td>NaN</td>\n",
       "      <td>NaN</td>\n",
       "      <td>NaN</td>\n",
       "      <td>NaN</td>\n",
       "      <td>NaN</td>\n",
       "      <td>NaN</td>\n",
       "      <td>NaN</td>\n",
       "      <td>NaN</td>\n",
       "    </tr>\n",
       "  </tbody>\n",
       "</table>\n",
       "<p>1120 rows × 12 columns</p>\n",
       "</div>"
      ],
      "text/plain": [
       "      simd2020v2  simd_2020v  simd2020_1  simd2020_2  simd2020_3  simd2020_4  \\\n",
       "0           90.0         2.0         1.0         1.0         1.0       167.0   \n",
       "1          462.0         7.0         2.0         1.0         1.0       223.0   \n",
       "2          173.0         3.0         1.0         1.0         1.0        85.0   \n",
       "3          164.0         3.0         1.0         1.0         1.0       216.0   \n",
       "4          278.0         4.0         1.0         1.0         1.0       334.0   \n",
       "...          ...         ...         ...         ...         ...         ...   \n",
       "1115         NaN         NaN         NaN         NaN         NaN         NaN   \n",
       "1116         NaN         NaN         NaN         NaN         NaN         NaN   \n",
       "1117         NaN         NaN         NaN         NaN         NaN         NaN   \n",
       "1118         NaN         NaN         NaN         NaN         NaN         NaN   \n",
       "1119         NaN         NaN         NaN         NaN         NaN         NaN   \n",
       "\n",
       "      simd2020_e  simd2020_h  simd2020_5  simd2020_a  simd2020_c  simd2020_6  \n",
       "0           48.0       299.0       102.0      4235.0       867.0       943.0  \n",
       "1          681.0       650.0       719.0      4096.0      1144.0      1008.0  \n",
       "2          251.0       228.0       276.0      4669.0      1478.0      1212.0  \n",
       "3          133.0       174.0       292.0      3904.0       986.0      1112.0  \n",
       "4          378.0       324.0       213.0      3625.0       838.0      1843.0  \n",
       "...          ...         ...         ...         ...         ...         ...  \n",
       "1115         NaN         NaN         NaN         NaN         NaN         NaN  \n",
       "1116         NaN         NaN         NaN         NaN         NaN         NaN  \n",
       "1117         NaN         NaN         NaN         NaN         NaN         NaN  \n",
       "1118         NaN         NaN         NaN         NaN         NaN         NaN  \n",
       "1119         NaN         NaN         NaN         NaN         NaN         NaN  \n",
       "\n",
       "[1120 rows x 12 columns]"
      ]
     },
     "execution_count": 3,
     "metadata": {},
     "output_type": "execute_result"
    }
   ],
   "source": [
    "Indices=simd2020.copy()\n",
    "Indices=Indices.iloc[:,7:19]\n",
    "Indices\n",
    "#SIMD1-5, SIMD1 least deprived, SIMD5 most deprived"
   ]
  },
  {
   "cell_type": "markdown",
   "metadata": {},
   "source": [
    "### 4. Removing the simd numerical columns"
   ]
  },
  {
   "cell_type": "code",
   "execution_count": 4,
   "metadata": {},
   "outputs": [],
   "source": [
    "def substring_based_columnRemoval(df,substr):\n",
    "    return df.loc[:, df.columns.isin([x for x in list(df.columns) if substr not in x])]"
   ]
  },
  {
   "cell_type": "code",
   "execution_count": 5,
   "metadata": {},
   "outputs": [
    {
     "data": {
      "text/html": [
       "<div>\n",
       "<style scoped>\n",
       "    .dataframe tbody tr th:only-of-type {\n",
       "        vertical-align: middle;\n",
       "    }\n",
       "\n",
       "    .dataframe tbody tr th {\n",
       "        vertical-align: top;\n",
       "    }\n",
       "\n",
       "    .dataframe thead th {\n",
       "        text-align: right;\n",
       "    }\n",
       "</style>\n",
       "<table border=\"1\" class=\"dataframe\">\n",
       "  <thead>\n",
       "    <tr style=\"text-align: right;\">\n",
       "      <th></th>\n",
       "      <th>id</th>\n",
       "      <th>geom</th>\n",
       "      <th>datazone</th>\n",
       "      <th>intermedia</th>\n",
       "      <th>council_ar</th>\n",
       "      <th>total_popu</th>\n",
       "      <th>working_ag</th>\n",
       "      <th>income_rat</th>\n",
       "      <th>income_cou</th>\n",
       "      <th>employment</th>\n",
       "      <th>...</th>\n",
       "      <th>drive_petr</th>\n",
       "      <th>drive_gp</th>\n",
       "      <th>drive_post</th>\n",
       "      <th>drive_prim</th>\n",
       "      <th>drive_reta</th>\n",
       "      <th>drive_seco</th>\n",
       "      <th>pt_gp</th>\n",
       "      <th>pt_post</th>\n",
       "      <th>pt_retail</th>\n",
       "      <th>broadband</th>\n",
       "    </tr>\n",
       "  </thead>\n",
       "  <tbody>\n",
       "    <tr>\n",
       "      <th>0</th>\n",
       "      <td>2207</td>\n",
       "      <td>0106000020E61000000100000001030000000100000061...</td>\n",
       "      <td>S01008712</td>\n",
       "      <td>Bingham, Magdalene and The Christians</td>\n",
       "      <td>City of Edinburgh</td>\n",
       "      <td>1124.0</td>\n",
       "      <td>615.0</td>\n",
       "      <td>0.36</td>\n",
       "      <td>405.0</td>\n",
       "      <td>0.32</td>\n",
       "      <td>...</td>\n",
       "      <td>3.848445</td>\n",
       "      <td>1.804226</td>\n",
       "      <td>2.864838</td>\n",
       "      <td>3.856566</td>\n",
       "      <td>4.683930</td>\n",
       "      <td>4.300235</td>\n",
       "      <td>4.086367</td>\n",
       "      <td>7.022797</td>\n",
       "      <td>9.600905512</td>\n",
       "      <td>0.00</td>\n",
       "    </tr>\n",
       "    <tr>\n",
       "      <th>1</th>\n",
       "      <td>2198</td>\n",
       "      <td>0106000020E61000000100000001030000000100000032...</td>\n",
       "      <td>S01008703</td>\n",
       "      <td>Craigmillar</td>\n",
       "      <td>City of Edinburgh</td>\n",
       "      <td>1128.0</td>\n",
       "      <td>738.0</td>\n",
       "      <td>0.34</td>\n",
       "      <td>386.0</td>\n",
       "      <td>0.20</td>\n",
       "      <td>...</td>\n",
       "      <td>4.716391</td>\n",
       "      <td>3.012070</td>\n",
       "      <td>5.068158</td>\n",
       "      <td>2.657618</td>\n",
       "      <td>2.265327</td>\n",
       "      <td>4.882096</td>\n",
       "      <td>5.706106</td>\n",
       "      <td>8.562497</td>\n",
       "      <td>5.172350823</td>\n",
       "      <td>0.00</td>\n",
       "    </tr>\n",
       "    <tr>\n",
       "      <th>2</th>\n",
       "      <td>2202</td>\n",
       "      <td>0106000020E610000001000000010300000001000000A9...</td>\n",
       "      <td>S01008707</td>\n",
       "      <td>Niddrie</td>\n",
       "      <td>City of Edinburgh</td>\n",
       "      <td>953.0</td>\n",
       "      <td>616.0</td>\n",
       "      <td>0.40</td>\n",
       "      <td>379.0</td>\n",
       "      <td>0.25</td>\n",
       "      <td>...</td>\n",
       "      <td>5.908976</td>\n",
       "      <td>2.370157</td>\n",
       "      <td>2.089455</td>\n",
       "      <td>3.284226</td>\n",
       "      <td>3.397390</td>\n",
       "      <td>3.429833</td>\n",
       "      <td>6.155957</td>\n",
       "      <td>6.755342</td>\n",
       "      <td>7.094846288</td>\n",
       "      <td>0.00</td>\n",
       "    </tr>\n",
       "    <tr>\n",
       "      <th>3</th>\n",
       "      <td>2203</td>\n",
       "      <td>0106000020E6100000010000000103000000010000008F...</td>\n",
       "      <td>S01008708</td>\n",
       "      <td>Niddrie</td>\n",
       "      <td>City of Edinburgh</td>\n",
       "      <td>1043.0</td>\n",
       "      <td>649.0</td>\n",
       "      <td>0.34</td>\n",
       "      <td>359.0</td>\n",
       "      <td>0.28</td>\n",
       "      <td>...</td>\n",
       "      <td>6.281557</td>\n",
       "      <td>2.589499</td>\n",
       "      <td>2.563769</td>\n",
       "      <td>3.363543</td>\n",
       "      <td>3.596589</td>\n",
       "      <td>3.324262</td>\n",
       "      <td>5.535684</td>\n",
       "      <td>6.211121</td>\n",
       "      <td>6.542594289</td>\n",
       "      <td>0.02</td>\n",
       "    </tr>\n",
       "    <tr>\n",
       "      <th>4</th>\n",
       "      <td>6801</td>\n",
       "      <td>0106000020E6100000010000000103000000010000004A...</td>\n",
       "      <td>S01013306</td>\n",
       "      <td>Craigshill</td>\n",
       "      <td>West Lothian</td>\n",
       "      <td>1044.0</td>\n",
       "      <td>738.0</td>\n",
       "      <td>0.31</td>\n",
       "      <td>326.0</td>\n",
       "      <td>0.23</td>\n",
       "      <td>...</td>\n",
       "      <td>3.240983</td>\n",
       "      <td>2.215408</td>\n",
       "      <td>3.116243</td>\n",
       "      <td>2.509684</td>\n",
       "      <td>2.345567</td>\n",
       "      <td>5.364662</td>\n",
       "      <td>9.955902</td>\n",
       "      <td>12.170924</td>\n",
       "      <td>13.64662728</td>\n",
       "      <td>0.00</td>\n",
       "    </tr>\n",
       "    <tr>\n",
       "      <th>...</th>\n",
       "      <td>...</td>\n",
       "      <td>...</td>\n",
       "      <td>...</td>\n",
       "      <td>...</td>\n",
       "      <td>...</td>\n",
       "      <td>...</td>\n",
       "      <td>...</td>\n",
       "      <td>...</td>\n",
       "      <td>...</td>\n",
       "      <td>...</td>\n",
       "      <td>...</td>\n",
       "      <td>...</td>\n",
       "      <td>...</td>\n",
       "      <td>...</td>\n",
       "      <td>...</td>\n",
       "      <td>...</td>\n",
       "      <td>...</td>\n",
       "      <td>...</td>\n",
       "      <td>...</td>\n",
       "      <td>...</td>\n",
       "      <td>...</td>\n",
       "    </tr>\n",
       "    <tr>\n",
       "      <th>1115</th>\n",
       "      <td>6745</td>\n",
       "      <td>0106000020E61000000300000001030000000100000049...</td>\n",
       "      <td>NaN</td>\n",
       "      <td>NaN</td>\n",
       "      <td>NaN</td>\n",
       "      <td>NaN</td>\n",
       "      <td>NaN</td>\n",
       "      <td>NaN</td>\n",
       "      <td>NaN</td>\n",
       "      <td>NaN</td>\n",
       "      <td>...</td>\n",
       "      <td>NaN</td>\n",
       "      <td>NaN</td>\n",
       "      <td>NaN</td>\n",
       "      <td>NaN</td>\n",
       "      <td>NaN</td>\n",
       "      <td>NaN</td>\n",
       "      <td>NaN</td>\n",
       "      <td>NaN</td>\n",
       "      <td>NaN</td>\n",
       "      <td>NaN</td>\n",
       "    </tr>\n",
       "    <tr>\n",
       "      <th>1116</th>\n",
       "      <td>NaN</td>\n",
       "      <td>NaN</td>\n",
       "      <td>NaN</td>\n",
       "      <td>NaN</td>\n",
       "      <td>NaN</td>\n",
       "      <td>NaN</td>\n",
       "      <td>NaN</td>\n",
       "      <td>NaN</td>\n",
       "      <td>NaN</td>\n",
       "      <td>NaN</td>\n",
       "      <td>...</td>\n",
       "      <td>NaN</td>\n",
       "      <td>NaN</td>\n",
       "      <td>NaN</td>\n",
       "      <td>NaN</td>\n",
       "      <td>NaN</td>\n",
       "      <td>NaN</td>\n",
       "      <td>NaN</td>\n",
       "      <td>NaN</td>\n",
       "      <td>NaN</td>\n",
       "      <td>NaN</td>\n",
       "    </tr>\n",
       "    <tr>\n",
       "      <th>1117</th>\n",
       "      <td>45C6D21133E44B40364DD1FBF6F00DC0C2FACC9A35E44B...</td>\n",
       "      <td>NaN</td>\n",
       "      <td>NaN</td>\n",
       "      <td>NaN</td>\n",
       "      <td>NaN</td>\n",
       "      <td>NaN</td>\n",
       "      <td>NaN</td>\n",
       "      <td>NaN</td>\n",
       "      <td>NaN</td>\n",
       "      <td>NaN</td>\n",
       "      <td>...</td>\n",
       "      <td>NaN</td>\n",
       "      <td>NaN</td>\n",
       "      <td>NaN</td>\n",
       "      <td>NaN</td>\n",
       "      <td>NaN</td>\n",
       "      <td>NaN</td>\n",
       "      <td>NaN</td>\n",
       "      <td>NaN</td>\n",
       "      <td>NaN</td>\n",
       "      <td>NaN</td>\n",
       "    </tr>\n",
       "    <tr>\n",
       "      <th>1118</th>\n",
       "      <td>NaN</td>\n",
       "      <td>NaN</td>\n",
       "      <td>NaN</td>\n",
       "      <td>NaN</td>\n",
       "      <td>NaN</td>\n",
       "      <td>NaN</td>\n",
       "      <td>NaN</td>\n",
       "      <td>NaN</td>\n",
       "      <td>NaN</td>\n",
       "      <td>NaN</td>\n",
       "      <td>...</td>\n",
       "      <td>NaN</td>\n",
       "      <td>NaN</td>\n",
       "      <td>NaN</td>\n",
       "      <td>NaN</td>\n",
       "      <td>NaN</td>\n",
       "      <td>NaN</td>\n",
       "      <td>NaN</td>\n",
       "      <td>NaN</td>\n",
       "      <td>NaN</td>\n",
       "      <td>NaN</td>\n",
       "    </tr>\n",
       "    <tr>\n",
       "      <th>1119</th>\n",
       "      <td>6784</td>\n",
       "      <td>0106000020E6100000010000000103000000010000000B...</td>\n",
       "      <td>NaN</td>\n",
       "      <td>NaN</td>\n",
       "      <td>NaN</td>\n",
       "      <td>NaN</td>\n",
       "      <td>NaN</td>\n",
       "      <td>NaN</td>\n",
       "      <td>NaN</td>\n",
       "      <td>NaN</td>\n",
       "      <td>...</td>\n",
       "      <td>NaN</td>\n",
       "      <td>NaN</td>\n",
       "      <td>NaN</td>\n",
       "      <td>NaN</td>\n",
       "      <td>NaN</td>\n",
       "      <td>NaN</td>\n",
       "      <td>NaN</td>\n",
       "      <td>NaN</td>\n",
       "      <td>NaN</td>\n",
       "      <td>NaN</td>\n",
       "    </tr>\n",
       "  </tbody>\n",
       "</table>\n",
       "<p>1120 rows × 39 columns</p>\n",
       "</div>"
      ],
      "text/plain": [
       "                                                     id  \\\n",
       "0                                                  2207   \n",
       "1                                                  2198   \n",
       "2                                                  2202   \n",
       "3                                                  2203   \n",
       "4                                                  6801   \n",
       "...                                                 ...   \n",
       "1115                                               6745   \n",
       "1116                                                NaN   \n",
       "1117  45C6D21133E44B40364DD1FBF6F00DC0C2FACC9A35E44B...   \n",
       "1118                                                NaN   \n",
       "1119                                               6784   \n",
       "\n",
       "                                                   geom   datazone  \\\n",
       "0     0106000020E61000000100000001030000000100000061...  S01008712   \n",
       "1     0106000020E61000000100000001030000000100000032...  S01008703   \n",
       "2     0106000020E610000001000000010300000001000000A9...  S01008707   \n",
       "3     0106000020E6100000010000000103000000010000008F...  S01008708   \n",
       "4     0106000020E6100000010000000103000000010000004A...  S01013306   \n",
       "...                                                 ...        ...   \n",
       "1115  0106000020E61000000300000001030000000100000049...        NaN   \n",
       "1116                                                NaN        NaN   \n",
       "1117                                                NaN        NaN   \n",
       "1118                                                NaN        NaN   \n",
       "1119  0106000020E6100000010000000103000000010000000B...        NaN   \n",
       "\n",
       "                                 intermedia         council_ar  total_popu  \\\n",
       "0     Bingham, Magdalene and The Christians  City of Edinburgh      1124.0   \n",
       "1                               Craigmillar  City of Edinburgh      1128.0   \n",
       "2                                   Niddrie  City of Edinburgh       953.0   \n",
       "3                                   Niddrie  City of Edinburgh      1043.0   \n",
       "4                                Craigshill       West Lothian      1044.0   \n",
       "...                                     ...                ...         ...   \n",
       "1115                                    NaN                NaN         NaN   \n",
       "1116                                    NaN                NaN         NaN   \n",
       "1117                                    NaN                NaN         NaN   \n",
       "1118                                    NaN                NaN         NaN   \n",
       "1119                                    NaN                NaN         NaN   \n",
       "\n",
       "      working_ag  income_rat  income_cou  employment  ...  drive_petr  \\\n",
       "0          615.0        0.36       405.0        0.32  ...    3.848445   \n",
       "1          738.0        0.34       386.0        0.20  ...    4.716391   \n",
       "2          616.0        0.40       379.0        0.25  ...    5.908976   \n",
       "3          649.0        0.34       359.0        0.28  ...    6.281557   \n",
       "4          738.0        0.31       326.0        0.23  ...    3.240983   \n",
       "...          ...         ...         ...         ...  ...         ...   \n",
       "1115         NaN         NaN         NaN         NaN  ...         NaN   \n",
       "1116         NaN         NaN         NaN         NaN  ...         NaN   \n",
       "1117         NaN         NaN         NaN         NaN  ...         NaN   \n",
       "1118         NaN         NaN         NaN         NaN  ...         NaN   \n",
       "1119         NaN         NaN         NaN         NaN  ...         NaN   \n",
       "\n",
       "      drive_gp  drive_post  drive_prim  drive_reta  drive_seco     pt_gp  \\\n",
       "0     1.804226    2.864838    3.856566    4.683930    4.300235  4.086367   \n",
       "1     3.012070    5.068158    2.657618    2.265327    4.882096  5.706106   \n",
       "2     2.370157    2.089455    3.284226    3.397390    3.429833  6.155957   \n",
       "3     2.589499    2.563769    3.363543    3.596589    3.324262  5.535684   \n",
       "4     2.215408    3.116243    2.509684    2.345567    5.364662  9.955902   \n",
       "...        ...         ...         ...         ...         ...       ...   \n",
       "1115       NaN         NaN         NaN         NaN         NaN       NaN   \n",
       "1116       NaN         NaN         NaN         NaN         NaN       NaN   \n",
       "1117       NaN         NaN         NaN         NaN         NaN       NaN   \n",
       "1118       NaN         NaN         NaN         NaN         NaN       NaN   \n",
       "1119       NaN         NaN         NaN         NaN         NaN       NaN   \n",
       "\n",
       "        pt_post    pt_retail broadband  \n",
       "0      7.022797  9.600905512      0.00  \n",
       "1      8.562497  5.172350823      0.00  \n",
       "2      6.755342  7.094846288      0.00  \n",
       "3      6.211121  6.542594289      0.02  \n",
       "4     12.170924  13.64662728      0.00  \n",
       "...         ...          ...       ...  \n",
       "1115        NaN          NaN       NaN  \n",
       "1116        NaN          NaN       NaN  \n",
       "1117        NaN          NaN       NaN  \n",
       "1118        NaN          NaN       NaN  \n",
       "1119        NaN          NaN       NaN  \n",
       "\n",
       "[1120 rows x 39 columns]"
      ]
     },
     "execution_count": 5,
     "metadata": {},
     "output_type": "execute_result"
    }
   ],
   "source": [
    "simd_filtered=simd2020.copy()\n",
    "simd_filtered=substring_based_columnRemoval(simd_filtered,'simd')\n",
    "simd_filtered"
   ]
  },
  {
   "cell_type": "code",
   "execution_count": 6,
   "metadata": {},
   "outputs": [
    {
     "data": {
      "text/plain": [
       "Index(['id', 'geom', 'datazone', 'intermedia', 'council_ar', 'total_popu',\n",
       "       'working_ag', 'income_rat', 'income_cou', 'employment', 'employme_1',\n",
       "       'cif', 'alcohol', 'drug', 'smr', 'depress', 'lbwt', 'emerg',\n",
       "       'attendance', 'attainment', 'no_qualifi', 'not_partic', 'university',\n",
       "       'crime_coun', 'crime_rate', 'overcrowde', 'nocentralh', 'overcrow_1',\n",
       "       'nocentra_1', 'drive_petr', 'drive_gp', 'drive_post', 'drive_prim',\n",
       "       'drive_reta', 'drive_seco', 'pt_gp', 'pt_post', 'pt_retail',\n",
       "       'broadband'],\n",
       "      dtype='object')"
      ]
     },
     "execution_count": 6,
     "metadata": {},
     "output_type": "execute_result"
    }
   ],
   "source": [
    "simd_filtered.columns"
   ]
  },
  {
   "cell_type": "markdown",
   "metadata": {},
   "source": [
    "### 5. Utilizing sweetviz tool to get a snapshot of the dataset"
   ]
  },
  {
   "cell_type": "code",
   "execution_count": 7,
   "metadata": {},
   "outputs": [],
   "source": [
    "# import sweetviz as sv\n",
    "# my_report = sv.analyze(simd_filtered)\n",
    "# my_report.show_html()"
   ]
  },
  {
   "cell_type": "markdown",
   "metadata": {},
   "source": [
    "### 6. Checking percentage of missing data for each row"
   ]
  },
  {
   "cell_type": "code",
   "execution_count": 7,
   "metadata": {},
   "outputs": [],
   "source": [
    "def clean_sparse_data(df,threshold):\n",
    "    if not isinstance(df, pd.DataFrame):\n",
    "        print(\"Invalid argument. Please provide a pandas dataframe.\")\n",
    "        return\n",
    "    \n",
    "    return df[df.apply(lambda x: (x.isnull().sum()/len(df.columns))*100 <= threshold, axis=1)]"
   ]
  },
  {
   "cell_type": "code",
   "execution_count": 9,
   "metadata": {},
   "outputs": [
    {
     "data": {
      "text/html": [
       "<div>\n",
       "<style scoped>\n",
       "    .dataframe tbody tr th:only-of-type {\n",
       "        vertical-align: middle;\n",
       "    }\n",
       "\n",
       "    .dataframe tbody tr th {\n",
       "        vertical-align: top;\n",
       "    }\n",
       "\n",
       "    .dataframe thead th {\n",
       "        text-align: right;\n",
       "    }\n",
       "</style>\n",
       "<table border=\"1\" class=\"dataframe\">\n",
       "  <thead>\n",
       "    <tr style=\"text-align: right;\">\n",
       "      <th></th>\n",
       "      <th>id</th>\n",
       "      <th>geom</th>\n",
       "      <th>datazone</th>\n",
       "      <th>intermedia</th>\n",
       "      <th>council_ar</th>\n",
       "      <th>total_popu</th>\n",
       "      <th>working_ag</th>\n",
       "      <th>income_rat</th>\n",
       "      <th>income_cou</th>\n",
       "      <th>employment</th>\n",
       "      <th>...</th>\n",
       "      <th>drive_petr</th>\n",
       "      <th>drive_gp</th>\n",
       "      <th>drive_post</th>\n",
       "      <th>drive_prim</th>\n",
       "      <th>drive_reta</th>\n",
       "      <th>drive_seco</th>\n",
       "      <th>pt_gp</th>\n",
       "      <th>pt_post</th>\n",
       "      <th>pt_retail</th>\n",
       "      <th>broadband</th>\n",
       "    </tr>\n",
       "  </thead>\n",
       "  <tbody>\n",
       "    <tr>\n",
       "      <th>0</th>\n",
       "      <td>2207</td>\n",
       "      <td>0106000020E61000000100000001030000000100000061...</td>\n",
       "      <td>S01008712</td>\n",
       "      <td>Bingham, Magdalene and The Christians</td>\n",
       "      <td>City of Edinburgh</td>\n",
       "      <td>1124.0</td>\n",
       "      <td>615.0</td>\n",
       "      <td>0.36</td>\n",
       "      <td>405.0</td>\n",
       "      <td>0.32</td>\n",
       "      <td>...</td>\n",
       "      <td>3.848445</td>\n",
       "      <td>1.804226</td>\n",
       "      <td>2.864838</td>\n",
       "      <td>3.856566</td>\n",
       "      <td>4.683930</td>\n",
       "      <td>4.300235</td>\n",
       "      <td>4.086367</td>\n",
       "      <td>7.022797</td>\n",
       "      <td>9.600905512</td>\n",
       "      <td>0.00</td>\n",
       "    </tr>\n",
       "    <tr>\n",
       "      <th>1</th>\n",
       "      <td>2198</td>\n",
       "      <td>0106000020E61000000100000001030000000100000032...</td>\n",
       "      <td>S01008703</td>\n",
       "      <td>Craigmillar</td>\n",
       "      <td>City of Edinburgh</td>\n",
       "      <td>1128.0</td>\n",
       "      <td>738.0</td>\n",
       "      <td>0.34</td>\n",
       "      <td>386.0</td>\n",
       "      <td>0.20</td>\n",
       "      <td>...</td>\n",
       "      <td>4.716391</td>\n",
       "      <td>3.012070</td>\n",
       "      <td>5.068158</td>\n",
       "      <td>2.657618</td>\n",
       "      <td>2.265327</td>\n",
       "      <td>4.882096</td>\n",
       "      <td>5.706106</td>\n",
       "      <td>8.562497</td>\n",
       "      <td>5.172350823</td>\n",
       "      <td>0.00</td>\n",
       "    </tr>\n",
       "    <tr>\n",
       "      <th>2</th>\n",
       "      <td>2202</td>\n",
       "      <td>0106000020E610000001000000010300000001000000A9...</td>\n",
       "      <td>S01008707</td>\n",
       "      <td>Niddrie</td>\n",
       "      <td>City of Edinburgh</td>\n",
       "      <td>953.0</td>\n",
       "      <td>616.0</td>\n",
       "      <td>0.40</td>\n",
       "      <td>379.0</td>\n",
       "      <td>0.25</td>\n",
       "      <td>...</td>\n",
       "      <td>5.908976</td>\n",
       "      <td>2.370157</td>\n",
       "      <td>2.089455</td>\n",
       "      <td>3.284226</td>\n",
       "      <td>3.397390</td>\n",
       "      <td>3.429833</td>\n",
       "      <td>6.155957</td>\n",
       "      <td>6.755342</td>\n",
       "      <td>7.094846288</td>\n",
       "      <td>0.00</td>\n",
       "    </tr>\n",
       "    <tr>\n",
       "      <th>3</th>\n",
       "      <td>2203</td>\n",
       "      <td>0106000020E6100000010000000103000000010000008F...</td>\n",
       "      <td>S01008708</td>\n",
       "      <td>Niddrie</td>\n",
       "      <td>City of Edinburgh</td>\n",
       "      <td>1043.0</td>\n",
       "      <td>649.0</td>\n",
       "      <td>0.34</td>\n",
       "      <td>359.0</td>\n",
       "      <td>0.28</td>\n",
       "      <td>...</td>\n",
       "      <td>6.281557</td>\n",
       "      <td>2.589499</td>\n",
       "      <td>2.563769</td>\n",
       "      <td>3.363543</td>\n",
       "      <td>3.596589</td>\n",
       "      <td>3.324262</td>\n",
       "      <td>5.535684</td>\n",
       "      <td>6.211121</td>\n",
       "      <td>6.542594289</td>\n",
       "      <td>0.02</td>\n",
       "    </tr>\n",
       "    <tr>\n",
       "      <th>4</th>\n",
       "      <td>6801</td>\n",
       "      <td>0106000020E6100000010000000103000000010000004A...</td>\n",
       "      <td>S01013306</td>\n",
       "      <td>Craigshill</td>\n",
       "      <td>West Lothian</td>\n",
       "      <td>1044.0</td>\n",
       "      <td>738.0</td>\n",
       "      <td>0.31</td>\n",
       "      <td>326.0</td>\n",
       "      <td>0.23</td>\n",
       "      <td>...</td>\n",
       "      <td>3.240983</td>\n",
       "      <td>2.215408</td>\n",
       "      <td>3.116243</td>\n",
       "      <td>2.509684</td>\n",
       "      <td>2.345567</td>\n",
       "      <td>5.364662</td>\n",
       "      <td>9.955902</td>\n",
       "      <td>12.170924</td>\n",
       "      <td>13.64662728</td>\n",
       "      <td>0.00</td>\n",
       "    </tr>\n",
       "  </tbody>\n",
       "</table>\n",
       "<p>5 rows × 39 columns</p>\n",
       "</div>"
      ],
      "text/plain": [
       "     id                                               geom   datazone  \\\n",
       "0  2207  0106000020E61000000100000001030000000100000061...  S01008712   \n",
       "1  2198  0106000020E61000000100000001030000000100000032...  S01008703   \n",
       "2  2202  0106000020E610000001000000010300000001000000A9...  S01008707   \n",
       "3  2203  0106000020E6100000010000000103000000010000008F...  S01008708   \n",
       "4  6801  0106000020E6100000010000000103000000010000004A...  S01013306   \n",
       "\n",
       "                              intermedia         council_ar  total_popu  \\\n",
       "0  Bingham, Magdalene and The Christians  City of Edinburgh      1124.0   \n",
       "1                            Craigmillar  City of Edinburgh      1128.0   \n",
       "2                                Niddrie  City of Edinburgh       953.0   \n",
       "3                                Niddrie  City of Edinburgh      1043.0   \n",
       "4                             Craigshill       West Lothian      1044.0   \n",
       "\n",
       "   working_ag  income_rat  income_cou  employment  ...  drive_petr  drive_gp  \\\n",
       "0       615.0        0.36       405.0        0.32  ...    3.848445  1.804226   \n",
       "1       738.0        0.34       386.0        0.20  ...    4.716391  3.012070   \n",
       "2       616.0        0.40       379.0        0.25  ...    5.908976  2.370157   \n",
       "3       649.0        0.34       359.0        0.28  ...    6.281557  2.589499   \n",
       "4       738.0        0.31       326.0        0.23  ...    3.240983  2.215408   \n",
       "\n",
       "   drive_post  drive_prim  drive_reta  drive_seco     pt_gp    pt_post  \\\n",
       "0    2.864838    3.856566    4.683930    4.300235  4.086367   7.022797   \n",
       "1    5.068158    2.657618    2.265327    4.882096  5.706106   8.562497   \n",
       "2    2.089455    3.284226    3.397390    3.429833  6.155957   6.755342   \n",
       "3    2.563769    3.363543    3.596589    3.324262  5.535684   6.211121   \n",
       "4    3.116243    2.509684    2.345567    5.364662  9.955902  12.170924   \n",
       "\n",
       "     pt_retail broadband  \n",
       "0  9.600905512      0.00  \n",
       "1  5.172350823      0.00  \n",
       "2  7.094846288      0.00  \n",
       "3  6.542594289      0.02  \n",
       "4  13.64662728      0.00  \n",
       "\n",
       "[5 rows x 39 columns]"
      ]
     },
     "execution_count": 9,
     "metadata": {},
     "output_type": "execute_result"
    }
   ],
   "source": [
    "simd_result=clean_sparse_data(simd_filtered,80)\n",
    "simd_result.head()"
   ]
  },
  {
   "cell_type": "markdown",
   "metadata": {},
   "source": [
    "#### 7. Using Combined SIMD Dataset( 2016 + 2020 ) "
   ]
  },
  {
   "cell_type": "code",
   "execution_count": 4,
   "metadata": {},
   "outputs": [],
   "source": [
    "combined_simd=pd.read_csv('../data/combined_dataset.csv')"
   ]
  },
  {
   "cell_type": "markdown",
   "metadata": {},
   "source": [
    "####  7.1 Verify datatypes of each variable"
   ]
  },
  {
   "cell_type": "code",
   "execution_count": 5,
   "metadata": {},
   "outputs": [
    {
     "data": {
      "text/plain": [
       "Data_Zone                          object\n",
       "Intermediate_Zone                  object\n",
       "Council_area                       object\n",
       "Total_population                  float64\n",
       "Working_age_population_revised    float64\n",
       "Income_rate                       float64\n",
       "Income_count                      float64\n",
       "Employment_rate                   float64\n",
       "Employment_count                  float64\n",
       "CIF                                object\n",
       "ALCOHOL                           float64\n",
       "DRUG                              float64\n",
       "SMR                               float64\n",
       "DEPRESS                            object\n",
       "LBWT                               object\n",
       "EMERG                             float64\n",
       "Attendance                         object\n",
       "Attainment                         object\n",
       "Noquals                           float64\n",
       "NEET                              float64\n",
       "HESA                               object\n",
       "drive_petrol                      float64\n",
       "drive_GP                          float64\n",
       "drive_PO                          float64\n",
       "drive_primary                     float64\n",
       "drive_retail                      float64\n",
       "drive_secondary                   float64\n",
       "PT_GP                             float64\n",
       "PT_Post                           float64\n",
       "PT_retail                         float64\n",
       "crime_count                        object\n",
       "crime_rate                         object\n",
       "overcrowded_count                 float64\n",
       "nocentralheat_count               float64\n",
       "overcrowded_rate                  float64\n",
       "nocentralheat_rate                float64\n",
       "year                                int64\n",
       "dtype: object"
      ]
     },
     "execution_count": 5,
     "metadata": {},
     "output_type": "execute_result"
    }
   ],
   "source": [
    "combined_simd.dtypes"
   ]
  },
  {
   "cell_type": "markdown",
   "metadata": {},
   "source": [
    "#### 7.2 Remove sparse data (if missing data > 80% for a row it is removed)"
   ]
  },
  {
   "cell_type": "code",
   "execution_count": 8,
   "metadata": {},
   "outputs": [
    {
     "data": {
      "text/html": [
       "<div>\n",
       "<style scoped>\n",
       "    .dataframe tbody tr th:only-of-type {\n",
       "        vertical-align: middle;\n",
       "    }\n",
       "\n",
       "    .dataframe tbody tr th {\n",
       "        vertical-align: top;\n",
       "    }\n",
       "\n",
       "    .dataframe thead th {\n",
       "        text-align: right;\n",
       "    }\n",
       "</style>\n",
       "<table border=\"1\" class=\"dataframe\">\n",
       "  <thead>\n",
       "    <tr style=\"text-align: right;\">\n",
       "      <th></th>\n",
       "      <th>Data_Zone</th>\n",
       "      <th>Intermediate_Zone</th>\n",
       "      <th>Council_area</th>\n",
       "      <th>Total_population</th>\n",
       "      <th>Working_age_population_revised</th>\n",
       "      <th>Income_rate</th>\n",
       "      <th>Income_count</th>\n",
       "      <th>Employment_rate</th>\n",
       "      <th>Employment_count</th>\n",
       "      <th>CIF</th>\n",
       "      <th>...</th>\n",
       "      <th>PT_GP</th>\n",
       "      <th>PT_Post</th>\n",
       "      <th>PT_retail</th>\n",
       "      <th>crime_count</th>\n",
       "      <th>crime_rate</th>\n",
       "      <th>overcrowded_count</th>\n",
       "      <th>nocentralheat_count</th>\n",
       "      <th>overcrowded_rate</th>\n",
       "      <th>nocentralheat_rate</th>\n",
       "      <th>year</th>\n",
       "    </tr>\n",
       "  </thead>\n",
       "  <tbody>\n",
       "    <tr>\n",
       "      <th>0</th>\n",
       "      <td>S01006506</td>\n",
       "      <td>Culter</td>\n",
       "      <td>Aberdeen City</td>\n",
       "      <td>904.0</td>\n",
       "      <td>605.0</td>\n",
       "      <td>0.07</td>\n",
       "      <td>60.0</td>\n",
       "      <td>0.07</td>\n",
       "      <td>40.0</td>\n",
       "      <td>60</td>\n",
       "      <td>...</td>\n",
       "      <td>8.437832</td>\n",
       "      <td>5.987087</td>\n",
       "      <td>5.711433</td>\n",
       "      <td>8.00642939150402</td>\n",
       "      <td>88.5666968086728</td>\n",
       "      <td>87.0</td>\n",
       "      <td>10.0</td>\n",
       "      <td>0.102113</td>\n",
       "      <td>0.011737</td>\n",
       "      <td>2016</td>\n",
       "    </tr>\n",
       "    <tr>\n",
       "      <th>1</th>\n",
       "      <td>S01006507</td>\n",
       "      <td>Culter</td>\n",
       "      <td>Aberdeen City</td>\n",
       "      <td>830.0</td>\n",
       "      <td>491.0</td>\n",
       "      <td>0.07</td>\n",
       "      <td>60.0</td>\n",
       "      <td>0.05</td>\n",
       "      <td>25.0</td>\n",
       "      <td>40</td>\n",
       "      <td>...</td>\n",
       "      <td>8.331833</td>\n",
       "      <td>7.262817</td>\n",
       "      <td>6.794300</td>\n",
       "      <td>4.00321469575201</td>\n",
       "      <td>48.2315023584579</td>\n",
       "      <td>85.0</td>\n",
       "      <td>4.0</td>\n",
       "      <td>0.101675</td>\n",
       "      <td>0.004785</td>\n",
       "      <td>2016</td>\n",
       "    </tr>\n",
       "    <tr>\n",
       "      <th>2</th>\n",
       "      <td>S01006508</td>\n",
       "      <td>Culter</td>\n",
       "      <td>Aberdeen City</td>\n",
       "      <td>694.0</td>\n",
       "      <td>519.0</td>\n",
       "      <td>0.05</td>\n",
       "      <td>30.0</td>\n",
       "      <td>0.03</td>\n",
       "      <td>15.0</td>\n",
       "      <td>45</td>\n",
       "      <td>...</td>\n",
       "      <td>7.853631</td>\n",
       "      <td>5.827924</td>\n",
       "      <td>5.251454</td>\n",
       "      <td>4.00321469575201</td>\n",
       "      <td>57.6832088725073</td>\n",
       "      <td>31.0</td>\n",
       "      <td>8.0</td>\n",
       "      <td>0.048212</td>\n",
       "      <td>0.012442</td>\n",
       "      <td>2016</td>\n",
       "    </tr>\n",
       "    <tr>\n",
       "      <th>3</th>\n",
       "      <td>S01006509</td>\n",
       "      <td>Culter</td>\n",
       "      <td>Aberdeen City</td>\n",
       "      <td>573.0</td>\n",
       "      <td>354.0</td>\n",
       "      <td>0.05</td>\n",
       "      <td>30.0</td>\n",
       "      <td>0.06</td>\n",
       "      <td>20.0</td>\n",
       "      <td>65</td>\n",
       "      <td>...</td>\n",
       "      <td>7.434491</td>\n",
       "      <td>8.311862</td>\n",
       "      <td>8.444698</td>\n",
       "      <td>*</td>\n",
       "      <td>*</td>\n",
       "      <td>42.0</td>\n",
       "      <td>6.0</td>\n",
       "      <td>0.072414</td>\n",
       "      <td>0.010345</td>\n",
       "      <td>2016</td>\n",
       "    </tr>\n",
       "    <tr>\n",
       "      <th>4</th>\n",
       "      <td>S01006510</td>\n",
       "      <td>Culter</td>\n",
       "      <td>Aberdeen City</td>\n",
       "      <td>676.0</td>\n",
       "      <td>414.0</td>\n",
       "      <td>0.10</td>\n",
       "      <td>70.0</td>\n",
       "      <td>0.07</td>\n",
       "      <td>30.0</td>\n",
       "      <td>75</td>\n",
       "      <td>...</td>\n",
       "      <td>5.141013</td>\n",
       "      <td>6.627376</td>\n",
       "      <td>6.619130</td>\n",
       "      <td>12.009644087256</td>\n",
       "      <td>177.657456912071</td>\n",
       "      <td>50.0</td>\n",
       "      <td>7.0</td>\n",
       "      <td>0.086655</td>\n",
       "      <td>0.012132</td>\n",
       "      <td>2016</td>\n",
       "    </tr>\n",
       "  </tbody>\n",
       "</table>\n",
       "<p>5 rows × 37 columns</p>\n",
       "</div>"
      ],
      "text/plain": [
       "   Data_Zone Intermediate_Zone   Council_area  Total_population  \\\n",
       "0  S01006506            Culter  Aberdeen City             904.0   \n",
       "1  S01006507            Culter  Aberdeen City             830.0   \n",
       "2  S01006508            Culter  Aberdeen City             694.0   \n",
       "3  S01006509            Culter  Aberdeen City             573.0   \n",
       "4  S01006510            Culter  Aberdeen City             676.0   \n",
       "\n",
       "   Working_age_population_revised  Income_rate  Income_count  Employment_rate  \\\n",
       "0                           605.0         0.07          60.0             0.07   \n",
       "1                           491.0         0.07          60.0             0.05   \n",
       "2                           519.0         0.05          30.0             0.03   \n",
       "3                           354.0         0.05          30.0             0.06   \n",
       "4                           414.0         0.10          70.0             0.07   \n",
       "\n",
       "   Employment_count CIF  ...     PT_GP   PT_Post  PT_retail       crime_count  \\\n",
       "0              40.0  60  ...  8.437832  5.987087   5.711433  8.00642939150402   \n",
       "1              25.0  40  ...  8.331833  7.262817   6.794300  4.00321469575201   \n",
       "2              15.0  45  ...  7.853631  5.827924   5.251454  4.00321469575201   \n",
       "3              20.0  65  ...  7.434491  8.311862   8.444698                 *   \n",
       "4              30.0  75  ...  5.141013  6.627376   6.619130   12.009644087256   \n",
       "\n",
       "         crime_rate  overcrowded_count nocentralheat_count overcrowded_rate  \\\n",
       "0  88.5666968086728               87.0                10.0         0.102113   \n",
       "1  48.2315023584579               85.0                 4.0         0.101675   \n",
       "2  57.6832088725073               31.0                 8.0         0.048212   \n",
       "3                 *               42.0                 6.0         0.072414   \n",
       "4  177.657456912071               50.0                 7.0         0.086655   \n",
       "\n",
       "   nocentralheat_rate  year  \n",
       "0            0.011737  2016  \n",
       "1            0.004785  2016  \n",
       "2            0.012442  2016  \n",
       "3            0.010345  2016  \n",
       "4            0.012132  2016  \n",
       "\n",
       "[5 rows x 37 columns]"
      ]
     },
     "execution_count": 8,
     "metadata": {},
     "output_type": "execute_result"
    }
   ],
   "source": [
    "combined_simd_result=clean_sparse_data(combined_simd,80)\n",
    "combined_simd_result.head()"
   ]
  },
  {
   "cell_type": "code",
   "execution_count": 9,
   "metadata": {},
   "outputs": [
    {
     "data": {
      "text/plain": [
       "(8055, 37)"
      ]
     },
     "execution_count": 9,
     "metadata": {},
     "output_type": "execute_result"
    }
   ],
   "source": [
    "combined_simd.shape"
   ]
  },
  {
   "cell_type": "code",
   "execution_count": 10,
   "metadata": {},
   "outputs": [
    {
     "data": {
      "text/plain": [
       "(8042, 37)"
      ]
     },
     "execution_count": 10,
     "metadata": {},
     "output_type": "execute_result"
    }
   ],
   "source": [
    "combined_simd_result.shape"
   ]
  },
  {
   "cell_type": "code",
   "execution_count": 11,
   "metadata": {},
   "outputs": [],
   "source": [
    "combined_simd_result.to_csv(\"../data/combined_dataset_cleaned.csv\")"
   ]
  },
  {
   "cell_type": "markdown",
   "metadata": {},
   "source": [
    "#### 7.3 Considering rows with no missing value for Datazone"
   ]
  },
  {
   "cell_type": "code",
   "execution_count": 15,
   "metadata": {},
   "outputs": [
    {
     "data": {
      "text/plain": [
       "(8042, 37)"
      ]
     },
     "execution_count": 15,
     "metadata": {},
     "output_type": "execute_result"
    }
   ],
   "source": [
    "combined_simd_result=combined_simd_result[combined_simd_result['Data_Zone'].notna()]\n",
    "combined_simd_result.shape"
   ]
  },
  {
   "cell_type": "code",
   "execution_count": 16,
   "metadata": {},
   "outputs": [
    {
     "data": {
      "text/html": [
       "<div>\n",
       "<style scoped>\n",
       "    .dataframe tbody tr th:only-of-type {\n",
       "        vertical-align: middle;\n",
       "    }\n",
       "\n",
       "    .dataframe tbody tr th {\n",
       "        vertical-align: top;\n",
       "    }\n",
       "\n",
       "    .dataframe thead th {\n",
       "        text-align: right;\n",
       "    }\n",
       "</style>\n",
       "<table border=\"1\" class=\"dataframe\">\n",
       "  <thead>\n",
       "    <tr style=\"text-align: right;\">\n",
       "      <th></th>\n",
       "      <th>Data_Zone</th>\n",
       "      <th>Intermediate_Zone</th>\n",
       "      <th>Council_area</th>\n",
       "      <th>Total_population</th>\n",
       "      <th>Working_age_population_revised</th>\n",
       "      <th>Income_rate</th>\n",
       "      <th>Income_count</th>\n",
       "      <th>Employment_rate</th>\n",
       "      <th>Employment_count</th>\n",
       "      <th>CIF</th>\n",
       "      <th>...</th>\n",
       "      <th>PT_GP</th>\n",
       "      <th>PT_Post</th>\n",
       "      <th>PT_retail</th>\n",
       "      <th>crime_count</th>\n",
       "      <th>crime_rate</th>\n",
       "      <th>overcrowded_count</th>\n",
       "      <th>nocentralheat_count</th>\n",
       "      <th>overcrowded_rate</th>\n",
       "      <th>nocentralheat_rate</th>\n",
       "      <th>year</th>\n",
       "    </tr>\n",
       "  </thead>\n",
       "  <tbody>\n",
       "    <tr>\n",
       "      <th>0</th>\n",
       "      <td>S01006506</td>\n",
       "      <td>Culter</td>\n",
       "      <td>Aberdeen City</td>\n",
       "      <td>904.0</td>\n",
       "      <td>605.0</td>\n",
       "      <td>0.07</td>\n",
       "      <td>60.0</td>\n",
       "      <td>0.07</td>\n",
       "      <td>40.0</td>\n",
       "      <td>60</td>\n",
       "      <td>...</td>\n",
       "      <td>8.437832</td>\n",
       "      <td>5.987087</td>\n",
       "      <td>5.711433</td>\n",
       "      <td>8.00642939150402</td>\n",
       "      <td>88.5666968086728</td>\n",
       "      <td>87.0</td>\n",
       "      <td>10.0</td>\n",
       "      <td>0.102113</td>\n",
       "      <td>0.011737</td>\n",
       "      <td>2016</td>\n",
       "    </tr>\n",
       "    <tr>\n",
       "      <th>1</th>\n",
       "      <td>S01006507</td>\n",
       "      <td>Culter</td>\n",
       "      <td>Aberdeen City</td>\n",
       "      <td>830.0</td>\n",
       "      <td>491.0</td>\n",
       "      <td>0.07</td>\n",
       "      <td>60.0</td>\n",
       "      <td>0.05</td>\n",
       "      <td>25.0</td>\n",
       "      <td>40</td>\n",
       "      <td>...</td>\n",
       "      <td>8.331833</td>\n",
       "      <td>7.262817</td>\n",
       "      <td>6.794300</td>\n",
       "      <td>4.00321469575201</td>\n",
       "      <td>48.2315023584579</td>\n",
       "      <td>85.0</td>\n",
       "      <td>4.0</td>\n",
       "      <td>0.101675</td>\n",
       "      <td>0.004785</td>\n",
       "      <td>2016</td>\n",
       "    </tr>\n",
       "    <tr>\n",
       "      <th>2</th>\n",
       "      <td>S01006508</td>\n",
       "      <td>Culter</td>\n",
       "      <td>Aberdeen City</td>\n",
       "      <td>694.0</td>\n",
       "      <td>519.0</td>\n",
       "      <td>0.05</td>\n",
       "      <td>30.0</td>\n",
       "      <td>0.03</td>\n",
       "      <td>15.0</td>\n",
       "      <td>45</td>\n",
       "      <td>...</td>\n",
       "      <td>7.853631</td>\n",
       "      <td>5.827924</td>\n",
       "      <td>5.251454</td>\n",
       "      <td>4.00321469575201</td>\n",
       "      <td>57.6832088725073</td>\n",
       "      <td>31.0</td>\n",
       "      <td>8.0</td>\n",
       "      <td>0.048212</td>\n",
       "      <td>0.012442</td>\n",
       "      <td>2016</td>\n",
       "    </tr>\n",
       "    <tr>\n",
       "      <th>3</th>\n",
       "      <td>S01006509</td>\n",
       "      <td>Culter</td>\n",
       "      <td>Aberdeen City</td>\n",
       "      <td>573.0</td>\n",
       "      <td>354.0</td>\n",
       "      <td>0.05</td>\n",
       "      <td>30.0</td>\n",
       "      <td>0.06</td>\n",
       "      <td>20.0</td>\n",
       "      <td>65</td>\n",
       "      <td>...</td>\n",
       "      <td>7.434491</td>\n",
       "      <td>8.311862</td>\n",
       "      <td>8.444698</td>\n",
       "      <td>*</td>\n",
       "      <td>*</td>\n",
       "      <td>42.0</td>\n",
       "      <td>6.0</td>\n",
       "      <td>0.072414</td>\n",
       "      <td>0.010345</td>\n",
       "      <td>2016</td>\n",
       "    </tr>\n",
       "    <tr>\n",
       "      <th>4</th>\n",
       "      <td>S01006510</td>\n",
       "      <td>Culter</td>\n",
       "      <td>Aberdeen City</td>\n",
       "      <td>676.0</td>\n",
       "      <td>414.0</td>\n",
       "      <td>0.10</td>\n",
       "      <td>70.0</td>\n",
       "      <td>0.07</td>\n",
       "      <td>30.0</td>\n",
       "      <td>75</td>\n",
       "      <td>...</td>\n",
       "      <td>5.141013</td>\n",
       "      <td>6.627376</td>\n",
       "      <td>6.619130</td>\n",
       "      <td>12.009644087256</td>\n",
       "      <td>177.657456912071</td>\n",
       "      <td>50.0</td>\n",
       "      <td>7.0</td>\n",
       "      <td>0.086655</td>\n",
       "      <td>0.012132</td>\n",
       "      <td>2016</td>\n",
       "    </tr>\n",
       "  </tbody>\n",
       "</table>\n",
       "<p>5 rows × 37 columns</p>\n",
       "</div>"
      ],
      "text/plain": [
       "   Data_Zone Intermediate_Zone   Council_area  Total_population  \\\n",
       "0  S01006506            Culter  Aberdeen City             904.0   \n",
       "1  S01006507            Culter  Aberdeen City             830.0   \n",
       "2  S01006508            Culter  Aberdeen City             694.0   \n",
       "3  S01006509            Culter  Aberdeen City             573.0   \n",
       "4  S01006510            Culter  Aberdeen City             676.0   \n",
       "\n",
       "   Working_age_population_revised  Income_rate  Income_count  Employment_rate  \\\n",
       "0                           605.0         0.07          60.0             0.07   \n",
       "1                           491.0         0.07          60.0             0.05   \n",
       "2                           519.0         0.05          30.0             0.03   \n",
       "3                           354.0         0.05          30.0             0.06   \n",
       "4                           414.0         0.10          70.0             0.07   \n",
       "\n",
       "   Employment_count CIF  ...     PT_GP   PT_Post  PT_retail       crime_count  \\\n",
       "0              40.0  60  ...  8.437832  5.987087   5.711433  8.00642939150402   \n",
       "1              25.0  40  ...  8.331833  7.262817   6.794300  4.00321469575201   \n",
       "2              15.0  45  ...  7.853631  5.827924   5.251454  4.00321469575201   \n",
       "3              20.0  65  ...  7.434491  8.311862   8.444698                 *   \n",
       "4              30.0  75  ...  5.141013  6.627376   6.619130   12.009644087256   \n",
       "\n",
       "         crime_rate  overcrowded_count nocentralheat_count overcrowded_rate  \\\n",
       "0  88.5666968086728               87.0                10.0         0.102113   \n",
       "1  48.2315023584579               85.0                 4.0         0.101675   \n",
       "2  57.6832088725073               31.0                 8.0         0.048212   \n",
       "3                 *               42.0                 6.0         0.072414   \n",
       "4  177.657456912071               50.0                 7.0         0.086655   \n",
       "\n",
       "   nocentralheat_rate  year  \n",
       "0            0.011737  2016  \n",
       "1            0.004785  2016  \n",
       "2            0.012442  2016  \n",
       "3            0.010345  2016  \n",
       "4            0.012132  2016  \n",
       "\n",
       "[5 rows x 37 columns]"
      ]
     },
     "execution_count": 16,
     "metadata": {},
     "output_type": "execute_result"
    }
   ],
   "source": [
    "combined_simd_result.head()"
   ]
  },
  {
   "cell_type": "markdown",
   "metadata": {},
   "source": [
    "#### 7.4 Check numeric columns"
   ]
  },
  {
   "cell_type": "code",
   "execution_count": 17,
   "metadata": {},
   "outputs": [
    {
     "data": {
      "text/plain": [
       "['Total_population',\n",
       " 'Working_age_population_revised',\n",
       " 'Income_rate',\n",
       " 'Income_count',\n",
       " 'Employment_rate',\n",
       " 'Employment_count',\n",
       " 'ALCOHOL',\n",
       " 'DRUG',\n",
       " 'SMR',\n",
       " 'EMERG',\n",
       " 'Noquals',\n",
       " 'NEET',\n",
       " 'drive_petrol',\n",
       " 'drive_GP',\n",
       " 'drive_PO',\n",
       " 'drive_primary',\n",
       " 'drive_retail',\n",
       " 'drive_secondary',\n",
       " 'PT_GP',\n",
       " 'PT_Post',\n",
       " 'PT_retail',\n",
       " 'overcrowded_count',\n",
       " 'nocentralheat_count',\n",
       " 'overcrowded_rate',\n",
       " 'nocentralheat_rate',\n",
       " 'year']"
      ]
     },
     "execution_count": 17,
     "metadata": {},
     "output_type": "execute_result"
    }
   ],
   "source": [
    "numeric_columns = combined_simd_result.select_dtypes(include=['int', 'float']).columns.tolist()\n",
    "numeric_columns"
   ]
  },
  {
   "cell_type": "markdown",
   "metadata": {},
   "source": [
    "#### 7.5 Applying DBSCAN Clustering Algorithm"
   ]
  },
  {
   "cell_type": "code",
   "execution_count": 21,
   "metadata": {},
   "outputs": [],
   "source": [
    "from bokeh.plotting import figure, show, output_file\n",
    "from bokeh.models import CategoricalColorMapper, ColumnDataSource,Div\n",
    "from bokeh.layouts import column\n",
    "from bokeh.palettes import Category20"
   ]
  },
  {
   "cell_type": "code",
   "execution_count": 22,
   "metadata": {},
   "outputs": [],
   "source": [
    "from itertools import combinations\n",
    "\n",
    "# Generate all pairs of labels\n",
    "label_pairs = combinations(numeric_columns, 2)"
   ]
  },
  {
   "cell_type": "code",
   "execution_count": 39,
   "metadata": {},
   "outputs": [
    {
     "name": "stdout",
     "output_type": "stream",
     "text": [
      "DBSCAN Clustering:_Total_population_vs_Working_age_population_revised\n",
      "DBSCAN Clustering:_Total_population_vs_Income_rate\n",
      "DBSCAN Clustering:_Total_population_vs_Income_count\n",
      "DBSCAN Clustering:_Total_population_vs_Employment_rate\n",
      "DBSCAN Clustering:_Total_population_vs_Employment_count\n",
      "DBSCAN Clustering:_Total_population_vs_ALCOHOL\n",
      "DBSCAN Clustering:_Total_population_vs_DRUG\n",
      "DBSCAN Clustering:_Total_population_vs_SMR\n",
      "DBSCAN Clustering:_Total_population_vs_EMERG\n",
      "DBSCAN Clustering:_Total_population_vs_Noquals\n",
      "DBSCAN Clustering:_Total_population_vs_NEET\n",
      "DBSCAN Clustering:_Total_population_vs_drive_petrol\n",
      "DBSCAN Clustering:_Total_population_vs_drive_GP\n",
      "DBSCAN Clustering:_Total_population_vs_drive_PO\n",
      "DBSCAN Clustering:_Total_population_vs_drive_primary\n",
      "DBSCAN Clustering:_Total_population_vs_drive_retail\n",
      "DBSCAN Clustering:_Total_population_vs_drive_secondary\n",
      "DBSCAN Clustering:_Total_population_vs_PT_GP\n",
      "DBSCAN Clustering:_Total_population_vs_PT_Post\n",
      "DBSCAN Clustering:_Total_population_vs_PT_retail\n",
      "DBSCAN Clustering:_Total_population_vs_overcrowded_count\n",
      "DBSCAN Clustering:_Total_population_vs_nocentralheat_count\n",
      "DBSCAN Clustering:_Total_population_vs_overcrowded_rate\n",
      "DBSCAN Clustering:_Total_population_vs_nocentralheat_rate\n",
      "DBSCAN Clustering:_Total_population_vs_year\n",
      "DBSCAN Clustering:_Working_age_population_revised_vs_Income_rate\n",
      "DBSCAN Clustering:_Working_age_population_revised_vs_Income_count\n",
      "DBSCAN Clustering:_Working_age_population_revised_vs_Employment_rate\n",
      "DBSCAN Clustering:_Working_age_population_revised_vs_Employment_count\n",
      "DBSCAN Clustering:_Working_age_population_revised_vs_ALCOHOL\n",
      "DBSCAN Clustering:_Working_age_population_revised_vs_DRUG\n",
      "DBSCAN Clustering:_Working_age_population_revised_vs_SMR\n",
      "DBSCAN Clustering:_Working_age_population_revised_vs_EMERG\n",
      "DBSCAN Clustering:_Working_age_population_revised_vs_Noquals\n",
      "DBSCAN Clustering:_Working_age_population_revised_vs_NEET\n",
      "DBSCAN Clustering:_Working_age_population_revised_vs_drive_petrol\n",
      "DBSCAN Clustering:_Working_age_population_revised_vs_drive_GP\n",
      "DBSCAN Clustering:_Working_age_population_revised_vs_drive_PO\n",
      "DBSCAN Clustering:_Working_age_population_revised_vs_drive_primary\n",
      "DBSCAN Clustering:_Working_age_population_revised_vs_drive_retail\n",
      "DBSCAN Clustering:_Working_age_population_revised_vs_drive_secondary\n",
      "DBSCAN Clustering:_Working_age_population_revised_vs_PT_GP\n",
      "DBSCAN Clustering:_Working_age_population_revised_vs_PT_Post\n",
      "DBSCAN Clustering:_Working_age_population_revised_vs_PT_retail\n",
      "DBSCAN Clustering:_Working_age_population_revised_vs_overcrowded_count\n",
      "DBSCAN Clustering:_Working_age_population_revised_vs_nocentralheat_count\n",
      "DBSCAN Clustering:_Working_age_population_revised_vs_overcrowded_rate\n",
      "DBSCAN Clustering:_Working_age_population_revised_vs_nocentralheat_rate\n",
      "DBSCAN Clustering:_Working_age_population_revised_vs_year\n",
      "DBSCAN Clustering:_Income_rate_vs_Income_count\n",
      "DBSCAN Clustering:_Income_rate_vs_Employment_rate\n",
      "DBSCAN Clustering:_Income_rate_vs_Employment_count\n",
      "DBSCAN Clustering:_Income_rate_vs_ALCOHOL\n",
      "DBSCAN Clustering:_Income_rate_vs_DRUG\n",
      "DBSCAN Clustering:_Income_rate_vs_SMR\n",
      "DBSCAN Clustering:_Income_rate_vs_EMERG\n",
      "DBSCAN Clustering:_Income_rate_vs_Noquals\n",
      "DBSCAN Clustering:_Income_rate_vs_NEET\n",
      "DBSCAN Clustering:_Income_rate_vs_drive_petrol\n",
      "DBSCAN Clustering:_Income_rate_vs_drive_GP\n",
      "DBSCAN Clustering:_Income_rate_vs_drive_PO\n",
      "DBSCAN Clustering:_Income_rate_vs_drive_primary\n",
      "DBSCAN Clustering:_Income_rate_vs_drive_retail\n",
      "DBSCAN Clustering:_Income_rate_vs_drive_secondary\n",
      "DBSCAN Clustering:_Income_rate_vs_PT_GP\n",
      "DBSCAN Clustering:_Income_rate_vs_PT_Post\n",
      "DBSCAN Clustering:_Income_rate_vs_PT_retail\n",
      "DBSCAN Clustering:_Income_rate_vs_overcrowded_count\n",
      "DBSCAN Clustering:_Income_rate_vs_nocentralheat_count\n",
      "DBSCAN Clustering:_Income_rate_vs_overcrowded_rate\n",
      "DBSCAN Clustering:_Income_rate_vs_nocentralheat_rate\n",
      "DBSCAN Clustering:_Income_rate_vs_year\n",
      "DBSCAN Clustering:_Income_count_vs_Employment_rate\n",
      "DBSCAN Clustering:_Income_count_vs_Employment_count\n",
      "DBSCAN Clustering:_Income_count_vs_ALCOHOL\n",
      "DBSCAN Clustering:_Income_count_vs_DRUG\n",
      "DBSCAN Clustering:_Income_count_vs_SMR\n",
      "DBSCAN Clustering:_Income_count_vs_EMERG\n",
      "DBSCAN Clustering:_Income_count_vs_Noquals\n",
      "DBSCAN Clustering:_Income_count_vs_NEET\n",
      "DBSCAN Clustering:_Income_count_vs_drive_petrol\n",
      "DBSCAN Clustering:_Income_count_vs_drive_GP\n",
      "DBSCAN Clustering:_Income_count_vs_drive_PO\n",
      "DBSCAN Clustering:_Income_count_vs_drive_primary\n",
      "DBSCAN Clustering:_Income_count_vs_drive_retail\n",
      "DBSCAN Clustering:_Income_count_vs_drive_secondary\n",
      "DBSCAN Clustering:_Income_count_vs_PT_GP\n",
      "DBSCAN Clustering:_Income_count_vs_PT_Post\n",
      "DBSCAN Clustering:_Income_count_vs_PT_retail\n",
      "DBSCAN Clustering:_Income_count_vs_overcrowded_count\n",
      "DBSCAN Clustering:_Income_count_vs_nocentralheat_count\n",
      "DBSCAN Clustering:_Income_count_vs_overcrowded_rate\n",
      "DBSCAN Clustering:_Income_count_vs_nocentralheat_rate\n",
      "DBSCAN Clustering:_Income_count_vs_year\n",
      "DBSCAN Clustering:_Employment_rate_vs_Employment_count\n",
      "DBSCAN Clustering:_Employment_rate_vs_ALCOHOL\n",
      "DBSCAN Clustering:_Employment_rate_vs_DRUG\n",
      "DBSCAN Clustering:_Employment_rate_vs_SMR\n",
      "DBSCAN Clustering:_Employment_rate_vs_EMERG\n",
      "DBSCAN Clustering:_Employment_rate_vs_Noquals\n",
      "DBSCAN Clustering:_Employment_rate_vs_NEET\n",
      "DBSCAN Clustering:_Employment_rate_vs_drive_petrol\n",
      "DBSCAN Clustering:_Employment_rate_vs_drive_GP\n",
      "DBSCAN Clustering:_Employment_rate_vs_drive_PO\n",
      "DBSCAN Clustering:_Employment_rate_vs_drive_primary\n",
      "DBSCAN Clustering:_Employment_rate_vs_drive_retail\n",
      "DBSCAN Clustering:_Employment_rate_vs_drive_secondary\n",
      "DBSCAN Clustering:_Employment_rate_vs_PT_GP\n",
      "DBSCAN Clustering:_Employment_rate_vs_PT_Post\n",
      "DBSCAN Clustering:_Employment_rate_vs_PT_retail\n",
      "DBSCAN Clustering:_Employment_rate_vs_overcrowded_count\n",
      "DBSCAN Clustering:_Employment_rate_vs_nocentralheat_count\n",
      "DBSCAN Clustering:_Employment_rate_vs_overcrowded_rate\n",
      "DBSCAN Clustering:_Employment_rate_vs_nocentralheat_rate\n",
      "DBSCAN Clustering:_Employment_rate_vs_year\n",
      "DBSCAN Clustering:_Employment_count_vs_ALCOHOL\n",
      "DBSCAN Clustering:_Employment_count_vs_DRUG\n",
      "DBSCAN Clustering:_Employment_count_vs_SMR\n",
      "DBSCAN Clustering:_Employment_count_vs_EMERG\n",
      "DBSCAN Clustering:_Employment_count_vs_Noquals\n",
      "DBSCAN Clustering:_Employment_count_vs_NEET\n",
      "DBSCAN Clustering:_Employment_count_vs_drive_petrol\n",
      "DBSCAN Clustering:_Employment_count_vs_drive_GP\n",
      "DBSCAN Clustering:_Employment_count_vs_drive_PO\n",
      "DBSCAN Clustering:_Employment_count_vs_drive_primary\n",
      "DBSCAN Clustering:_Employment_count_vs_drive_retail\n",
      "DBSCAN Clustering:_Employment_count_vs_drive_secondary\n",
      "DBSCAN Clustering:_Employment_count_vs_PT_GP\n",
      "DBSCAN Clustering:_Employment_count_vs_PT_Post\n",
      "DBSCAN Clustering:_Employment_count_vs_PT_retail\n",
      "DBSCAN Clustering:_Employment_count_vs_overcrowded_count\n",
      "DBSCAN Clustering:_Employment_count_vs_nocentralheat_count\n",
      "DBSCAN Clustering:_Employment_count_vs_overcrowded_rate\n",
      "DBSCAN Clustering:_Employment_count_vs_nocentralheat_rate\n",
      "DBSCAN Clustering:_Employment_count_vs_year\n",
      "DBSCAN Clustering:_ALCOHOL_vs_DRUG\n",
      "DBSCAN Clustering:_ALCOHOL_vs_SMR\n",
      "DBSCAN Clustering:_ALCOHOL_vs_EMERG\n",
      "DBSCAN Clustering:_ALCOHOL_vs_Noquals\n",
      "DBSCAN Clustering:_ALCOHOL_vs_NEET\n",
      "DBSCAN Clustering:_ALCOHOL_vs_drive_petrol\n",
      "DBSCAN Clustering:_ALCOHOL_vs_drive_GP\n",
      "DBSCAN Clustering:_ALCOHOL_vs_drive_PO\n",
      "DBSCAN Clustering:_ALCOHOL_vs_drive_primary\n",
      "DBSCAN Clustering:_ALCOHOL_vs_drive_retail\n",
      "DBSCAN Clustering:_ALCOHOL_vs_drive_secondary\n",
      "DBSCAN Clustering:_ALCOHOL_vs_PT_GP\n",
      "DBSCAN Clustering:_ALCOHOL_vs_PT_Post\n",
      "DBSCAN Clustering:_ALCOHOL_vs_PT_retail\n",
      "DBSCAN Clustering:_ALCOHOL_vs_overcrowded_count\n",
      "DBSCAN Clustering:_ALCOHOL_vs_nocentralheat_count\n",
      "DBSCAN Clustering:_ALCOHOL_vs_overcrowded_rate\n",
      "DBSCAN Clustering:_ALCOHOL_vs_nocentralheat_rate\n",
      "DBSCAN Clustering:_ALCOHOL_vs_year\n",
      "DBSCAN Clustering:_DRUG_vs_SMR\n",
      "DBSCAN Clustering:_DRUG_vs_EMERG\n",
      "DBSCAN Clustering:_DRUG_vs_Noquals\n",
      "DBSCAN Clustering:_DRUG_vs_NEET\n",
      "DBSCAN Clustering:_DRUG_vs_drive_petrol\n",
      "DBSCAN Clustering:_DRUG_vs_drive_GP\n",
      "DBSCAN Clustering:_DRUG_vs_drive_PO\n",
      "DBSCAN Clustering:_DRUG_vs_drive_primary\n",
      "DBSCAN Clustering:_DRUG_vs_drive_retail\n",
      "DBSCAN Clustering:_DRUG_vs_drive_secondary\n",
      "DBSCAN Clustering:_DRUG_vs_PT_GP\n",
      "DBSCAN Clustering:_DRUG_vs_PT_Post\n",
      "DBSCAN Clustering:_DRUG_vs_PT_retail\n",
      "DBSCAN Clustering:_DRUG_vs_overcrowded_count\n",
      "DBSCAN Clustering:_DRUG_vs_nocentralheat_count\n",
      "DBSCAN Clustering:_DRUG_vs_overcrowded_rate\n",
      "DBSCAN Clustering:_DRUG_vs_nocentralheat_rate\n",
      "DBSCAN Clustering:_DRUG_vs_year\n",
      "DBSCAN Clustering:_SMR_vs_EMERG\n",
      "DBSCAN Clustering:_SMR_vs_Noquals\n",
      "DBSCAN Clustering:_SMR_vs_NEET\n",
      "DBSCAN Clustering:_SMR_vs_drive_petrol\n",
      "DBSCAN Clustering:_SMR_vs_drive_GP\n",
      "DBSCAN Clustering:_SMR_vs_drive_PO\n",
      "DBSCAN Clustering:_SMR_vs_drive_primary\n",
      "DBSCAN Clustering:_SMR_vs_drive_retail\n",
      "DBSCAN Clustering:_SMR_vs_drive_secondary\n",
      "DBSCAN Clustering:_SMR_vs_PT_GP\n",
      "DBSCAN Clustering:_SMR_vs_PT_Post\n",
      "DBSCAN Clustering:_SMR_vs_PT_retail\n",
      "DBSCAN Clustering:_SMR_vs_overcrowded_count\n",
      "DBSCAN Clustering:_SMR_vs_nocentralheat_count\n",
      "DBSCAN Clustering:_SMR_vs_overcrowded_rate\n",
      "DBSCAN Clustering:_SMR_vs_nocentralheat_rate\n",
      "DBSCAN Clustering:_SMR_vs_year\n",
      "DBSCAN Clustering:_EMERG_vs_Noquals\n",
      "DBSCAN Clustering:_EMERG_vs_NEET\n",
      "DBSCAN Clustering:_EMERG_vs_drive_petrol\n",
      "DBSCAN Clustering:_EMERG_vs_drive_GP\n",
      "DBSCAN Clustering:_EMERG_vs_drive_PO\n",
      "DBSCAN Clustering:_EMERG_vs_drive_primary\n",
      "DBSCAN Clustering:_EMERG_vs_drive_retail\n",
      "DBSCAN Clustering:_EMERG_vs_drive_secondary\n",
      "DBSCAN Clustering:_EMERG_vs_PT_GP\n",
      "DBSCAN Clustering:_EMERG_vs_PT_Post\n",
      "DBSCAN Clustering:_EMERG_vs_PT_retail\n",
      "DBSCAN Clustering:_EMERG_vs_overcrowded_count\n",
      "DBSCAN Clustering:_EMERG_vs_nocentralheat_count\n",
      "DBSCAN Clustering:_EMERG_vs_overcrowded_rate\n",
      "DBSCAN Clustering:_EMERG_vs_nocentralheat_rate\n",
      "DBSCAN Clustering:_EMERG_vs_year\n",
      "DBSCAN Clustering:_Noquals_vs_NEET\n",
      "DBSCAN Clustering:_Noquals_vs_drive_petrol\n",
      "DBSCAN Clustering:_Noquals_vs_drive_GP\n",
      "DBSCAN Clustering:_Noquals_vs_drive_PO\n",
      "DBSCAN Clustering:_Noquals_vs_drive_primary\n",
      "DBSCAN Clustering:_Noquals_vs_drive_retail\n",
      "DBSCAN Clustering:_Noquals_vs_drive_secondary\n",
      "DBSCAN Clustering:_Noquals_vs_PT_GP\n",
      "DBSCAN Clustering:_Noquals_vs_PT_Post\n",
      "DBSCAN Clustering:_Noquals_vs_PT_retail\n",
      "DBSCAN Clustering:_Noquals_vs_overcrowded_count\n",
      "DBSCAN Clustering:_Noquals_vs_nocentralheat_count\n",
      "DBSCAN Clustering:_Noquals_vs_overcrowded_rate\n",
      "DBSCAN Clustering:_Noquals_vs_nocentralheat_rate\n",
      "DBSCAN Clustering:_Noquals_vs_year\n",
      "DBSCAN Clustering:_NEET_vs_drive_petrol\n",
      "DBSCAN Clustering:_NEET_vs_drive_GP\n",
      "DBSCAN Clustering:_NEET_vs_drive_PO\n",
      "DBSCAN Clustering:_NEET_vs_drive_primary\n",
      "DBSCAN Clustering:_NEET_vs_drive_retail\n",
      "DBSCAN Clustering:_NEET_vs_drive_secondary\n",
      "DBSCAN Clustering:_NEET_vs_PT_GP\n",
      "DBSCAN Clustering:_NEET_vs_PT_Post\n",
      "DBSCAN Clustering:_NEET_vs_PT_retail\n",
      "DBSCAN Clustering:_NEET_vs_overcrowded_count\n",
      "DBSCAN Clustering:_NEET_vs_nocentralheat_count\n",
      "DBSCAN Clustering:_NEET_vs_overcrowded_rate\n",
      "DBSCAN Clustering:_NEET_vs_nocentralheat_rate\n",
      "DBSCAN Clustering:_NEET_vs_year\n",
      "DBSCAN Clustering:_drive_petrol_vs_drive_GP\n",
      "DBSCAN Clustering:_drive_petrol_vs_drive_PO\n",
      "DBSCAN Clustering:_drive_petrol_vs_drive_primary\n",
      "DBSCAN Clustering:_drive_petrol_vs_drive_retail\n",
      "DBSCAN Clustering:_drive_petrol_vs_drive_secondary\n",
      "DBSCAN Clustering:_drive_petrol_vs_PT_GP\n",
      "DBSCAN Clustering:_drive_petrol_vs_PT_Post\n",
      "DBSCAN Clustering:_drive_petrol_vs_PT_retail\n",
      "DBSCAN Clustering:_drive_petrol_vs_overcrowded_count\n",
      "DBSCAN Clustering:_drive_petrol_vs_nocentralheat_count\n",
      "DBSCAN Clustering:_drive_petrol_vs_overcrowded_rate\n",
      "DBSCAN Clustering:_drive_petrol_vs_nocentralheat_rate\n",
      "DBSCAN Clustering:_drive_petrol_vs_year\n",
      "DBSCAN Clustering:_drive_GP_vs_drive_PO\n",
      "DBSCAN Clustering:_drive_GP_vs_drive_primary\n",
      "DBSCAN Clustering:_drive_GP_vs_drive_retail\n",
      "DBSCAN Clustering:_drive_GP_vs_drive_secondary\n",
      "DBSCAN Clustering:_drive_GP_vs_PT_GP\n",
      "DBSCAN Clustering:_drive_GP_vs_PT_Post\n",
      "DBSCAN Clustering:_drive_GP_vs_PT_retail\n",
      "DBSCAN Clustering:_drive_GP_vs_overcrowded_count\n",
      "DBSCAN Clustering:_drive_GP_vs_nocentralheat_count\n",
      "DBSCAN Clustering:_drive_GP_vs_overcrowded_rate\n",
      "DBSCAN Clustering:_drive_GP_vs_nocentralheat_rate\n",
      "DBSCAN Clustering:_drive_GP_vs_year\n",
      "DBSCAN Clustering:_drive_PO_vs_drive_primary\n",
      "DBSCAN Clustering:_drive_PO_vs_drive_retail\n",
      "DBSCAN Clustering:_drive_PO_vs_drive_secondary\n",
      "DBSCAN Clustering:_drive_PO_vs_PT_GP\n",
      "DBSCAN Clustering:_drive_PO_vs_PT_Post\n",
      "DBSCAN Clustering:_drive_PO_vs_PT_retail\n",
      "DBSCAN Clustering:_drive_PO_vs_overcrowded_count\n",
      "DBSCAN Clustering:_drive_PO_vs_nocentralheat_count\n",
      "DBSCAN Clustering:_drive_PO_vs_overcrowded_rate\n",
      "DBSCAN Clustering:_drive_PO_vs_nocentralheat_rate\n",
      "DBSCAN Clustering:_drive_PO_vs_year\n",
      "DBSCAN Clustering:_drive_primary_vs_drive_retail\n",
      "DBSCAN Clustering:_drive_primary_vs_drive_secondary\n",
      "DBSCAN Clustering:_drive_primary_vs_PT_GP\n",
      "DBSCAN Clustering:_drive_primary_vs_PT_Post\n",
      "DBSCAN Clustering:_drive_primary_vs_PT_retail\n",
      "DBSCAN Clustering:_drive_primary_vs_overcrowded_count\n",
      "DBSCAN Clustering:_drive_primary_vs_nocentralheat_count\n",
      "DBSCAN Clustering:_drive_primary_vs_overcrowded_rate\n",
      "DBSCAN Clustering:_drive_primary_vs_nocentralheat_rate\n",
      "DBSCAN Clustering:_drive_primary_vs_year\n",
      "DBSCAN Clustering:_drive_retail_vs_drive_secondary\n",
      "DBSCAN Clustering:_drive_retail_vs_PT_GP\n",
      "DBSCAN Clustering:_drive_retail_vs_PT_Post\n",
      "DBSCAN Clustering:_drive_retail_vs_PT_retail\n",
      "DBSCAN Clustering:_drive_retail_vs_overcrowded_count\n",
      "DBSCAN Clustering:_drive_retail_vs_nocentralheat_count\n",
      "DBSCAN Clustering:_drive_retail_vs_overcrowded_rate\n",
      "DBSCAN Clustering:_drive_retail_vs_nocentralheat_rate\n",
      "DBSCAN Clustering:_drive_retail_vs_year\n",
      "DBSCAN Clustering:_drive_secondary_vs_PT_GP\n",
      "DBSCAN Clustering:_drive_secondary_vs_PT_Post\n",
      "DBSCAN Clustering:_drive_secondary_vs_PT_retail\n",
      "DBSCAN Clustering:_drive_secondary_vs_overcrowded_count\n",
      "DBSCAN Clustering:_drive_secondary_vs_nocentralheat_count\n",
      "DBSCAN Clustering:_drive_secondary_vs_overcrowded_rate\n",
      "DBSCAN Clustering:_drive_secondary_vs_nocentralheat_rate\n",
      "DBSCAN Clustering:_drive_secondary_vs_year\n",
      "DBSCAN Clustering:_PT_GP_vs_PT_Post\n",
      "DBSCAN Clustering:_PT_GP_vs_PT_retail\n",
      "DBSCAN Clustering:_PT_GP_vs_overcrowded_count\n",
      "DBSCAN Clustering:_PT_GP_vs_nocentralheat_count\n",
      "DBSCAN Clustering:_PT_GP_vs_overcrowded_rate\n",
      "DBSCAN Clustering:_PT_GP_vs_nocentralheat_rate\n",
      "DBSCAN Clustering:_PT_GP_vs_year\n",
      "DBSCAN Clustering:_PT_Post_vs_PT_retail\n",
      "DBSCAN Clustering:_PT_Post_vs_overcrowded_count\n",
      "DBSCAN Clustering:_PT_Post_vs_nocentralheat_count\n",
      "DBSCAN Clustering:_PT_Post_vs_overcrowded_rate\n",
      "DBSCAN Clustering:_PT_Post_vs_nocentralheat_rate\n",
      "DBSCAN Clustering:_PT_Post_vs_year\n",
      "DBSCAN Clustering:_PT_retail_vs_overcrowded_count\n",
      "DBSCAN Clustering:_PT_retail_vs_nocentralheat_count\n",
      "DBSCAN Clustering:_PT_retail_vs_overcrowded_rate\n",
      "DBSCAN Clustering:_PT_retail_vs_nocentralheat_rate\n",
      "DBSCAN Clustering:_PT_retail_vs_year\n",
      "DBSCAN Clustering:_overcrowded_count_vs_nocentralheat_count\n",
      "DBSCAN Clustering:_overcrowded_count_vs_overcrowded_rate\n",
      "DBSCAN Clustering:_overcrowded_count_vs_nocentralheat_rate\n",
      "DBSCAN Clustering:_overcrowded_count_vs_year\n",
      "DBSCAN Clustering:_nocentralheat_count_vs_overcrowded_rate\n",
      "DBSCAN Clustering:_nocentralheat_count_vs_nocentralheat_rate\n",
      "DBSCAN Clustering:_nocentralheat_count_vs_year\n",
      "DBSCAN Clustering:_overcrowded_rate_vs_nocentralheat_rate\n",
      "DBSCAN Clustering:_overcrowded_rate_vs_year\n",
      "DBSCAN Clustering:_nocentralheat_rate_vs_year\n"
     ]
    }
   ],
   "source": [
    "from sklearn.cluster import DBSCAN\n",
    "\n",
    "for label1, label2 in label_pairs:\n",
    "    try:\n",
    "        data=combined_simd_result.copy()\n",
    "        name='DBSCAN Clustering:_'+ label1 +'_vs_' + label2\n",
    "        print(name)\n",
    "        X= data.copy()\n",
    "        X = X[[label1, label2]]\n",
    "        X=X.dropna()\n",
    "        db = DBSCAN(eps=1.6, min_samples=5).fit(X)\n",
    "        labels = db.labels_\n",
    "        X['label'] = labels\n",
    "\n",
    "        # Convert labels to string\n",
    "        X['label'] = X['label'].astype(str)\n",
    "\n",
    "\n",
    "        # Calculate the percentage of data that is noise\n",
    "        noise_percent = (X['label'] == '-1').mean() * 100\n",
    "\n",
    "        #Do not show noise\n",
    "        X=X[X['label']!='-1']\n",
    "\n",
    "        # Create a ColumnDataSource from df: source\n",
    "        source = ColumnDataSource(X)\n",
    "\n",
    "        # Create a palette with 'black' for noise and the rest of the colors for clusters\n",
    "        palette = ['black'] + list(Category20[20])\n",
    "\n",
    "\n",
    "        # Create a CategoricalColorMapper from the 'label' column: color_mapper\n",
    "        color_mapper = CategoricalColorMapper(factors=X['label'].unique().tolist(), palette=palette)\n",
    "\n",
    "        # Create a figure with the \"box_select\" tool: p\n",
    "        p = figure(x_axis_label=label1, y_axis_label=label2, tools='box_select')\n",
    "\n",
    "        # Add a circle glyph to the figure p\n",
    "        p.circle(x=label1, y=label2, source=source,\n",
    "                 color=dict(field='label', transform=color_mapper),\n",
    "                 legend_field='label')\n",
    "\n",
    "        # Create_html_file() \n",
    "        output_file(filename=\"./DBSCAN_Clustering_Output/\"+label1+'_'+label2+'.html')\n",
    "\n",
    "\n",
    "        # Create a Div widget with the noise percentage\n",
    "        div = Div(text=f\"<strong>Noise Percentage:</strong> {noise_percent:.2f}%\", width=200, height=100)\n",
    "\n",
    "        # Combine the plot and Div widget into a single layout\n",
    "        layout = column(p, div)\n",
    "\n",
    "        # Display the layout\n",
    "        show(layout)\n",
    "    \n",
    "    except Exception as e:\n",
    "        print(\"Errors with labels :\", label1, label2, \"Error message:\", str(e))\n",
    "        \n",
    "\n",
    "    \n"
   ]
  },
  {
   "cell_type": "markdown",
   "metadata": {},
   "source": [
    "#### 7.6 Applying Birch Clustering Algorithm"
   ]
  },
  {
   "cell_type": "code",
   "execution_count": 48,
   "metadata": {},
   "outputs": [
    {
     "name": "stdout",
     "output_type": "stream",
     "text": [
      "BIRCH Clustering:_Total_population_vs_Working_age_population_revised\n",
      "BIRCH Clustering:_Total_population_vs_Income_rate\n",
      "BIRCH Clustering:_Total_population_vs_Income_count\n",
      "BIRCH Clustering:_Total_population_vs_Employment_rate\n",
      "BIRCH Clustering:_Total_population_vs_Employment_count\n",
      "BIRCH Clustering:_Total_population_vs_ALCOHOL\n",
      "BIRCH Clustering:_Total_population_vs_DRUG\n",
      "BIRCH Clustering:_Total_population_vs_SMR\n",
      "BIRCH Clustering:_Total_population_vs_EMERG\n",
      "BIRCH Clustering:_Total_population_vs_Noquals\n",
      "BIRCH Clustering:_Total_population_vs_NEET\n",
      "BIRCH Clustering:_Total_population_vs_drive_petrol\n",
      "BIRCH Clustering:_Total_population_vs_drive_GP\n",
      "BIRCH Clustering:_Total_population_vs_drive_PO\n",
      "BIRCH Clustering:_Total_population_vs_drive_primary\n",
      "BIRCH Clustering:_Total_population_vs_drive_retail\n",
      "BIRCH Clustering:_Total_population_vs_drive_secondary\n",
      "BIRCH Clustering:_Total_population_vs_PT_GP\n",
      "BIRCH Clustering:_Total_population_vs_PT_Post\n",
      "BIRCH Clustering:_Total_population_vs_PT_retail\n",
      "BIRCH Clustering:_Total_population_vs_overcrowded_count\n",
      "BIRCH Clustering:_Total_population_vs_nocentralheat_count\n",
      "BIRCH Clustering:_Total_population_vs_overcrowded_rate\n",
      "BIRCH Clustering:_Total_population_vs_nocentralheat_rate\n",
      "BIRCH Clustering:_Total_population_vs_year\n",
      "BIRCH Clustering:_Working_age_population_revised_vs_Income_rate\n",
      "BIRCH Clustering:_Working_age_population_revised_vs_Income_count\n",
      "BIRCH Clustering:_Working_age_population_revised_vs_Employment_rate\n",
      "BIRCH Clustering:_Working_age_population_revised_vs_Employment_count\n",
      "BIRCH Clustering:_Working_age_population_revised_vs_ALCOHOL\n",
      "BIRCH Clustering:_Working_age_population_revised_vs_DRUG\n",
      "BIRCH Clustering:_Working_age_population_revised_vs_SMR\n",
      "BIRCH Clustering:_Working_age_population_revised_vs_EMERG\n",
      "BIRCH Clustering:_Working_age_population_revised_vs_Noquals\n",
      "BIRCH Clustering:_Working_age_population_revised_vs_NEET\n",
      "BIRCH Clustering:_Working_age_population_revised_vs_drive_petrol\n",
      "BIRCH Clustering:_Working_age_population_revised_vs_drive_GP\n",
      "BIRCH Clustering:_Working_age_population_revised_vs_drive_PO\n",
      "BIRCH Clustering:_Working_age_population_revised_vs_drive_primary\n",
      "BIRCH Clustering:_Working_age_population_revised_vs_drive_retail\n",
      "BIRCH Clustering:_Working_age_population_revised_vs_drive_secondary\n",
      "BIRCH Clustering:_Working_age_population_revised_vs_PT_GP\n",
      "BIRCH Clustering:_Working_age_population_revised_vs_PT_Post\n",
      "BIRCH Clustering:_Working_age_population_revised_vs_PT_retail\n",
      "BIRCH Clustering:_Working_age_population_revised_vs_overcrowded_count\n",
      "BIRCH Clustering:_Working_age_population_revised_vs_nocentralheat_count\n",
      "BIRCH Clustering:_Working_age_population_revised_vs_overcrowded_rate\n",
      "BIRCH Clustering:_Working_age_population_revised_vs_nocentralheat_rate\n",
      "BIRCH Clustering:_Working_age_population_revised_vs_year\n",
      "BIRCH Clustering:_Income_rate_vs_Income_count\n",
      "BIRCH Clustering:_Income_rate_vs_Employment_rate\n"
     ]
    },
    {
     "name": "stderr",
     "output_type": "stream",
     "text": [
      "c:\\Python311\\Lib\\site-packages\\sklearn\\cluster\\_birch.py:726: ConvergenceWarning: Number of subclusters found (1) by BIRCH is less than (5). Decrease the threshold.\n",
      "  \"Number of subclusters found (%d) by BIRCH is less \"\n"
     ]
    },
    {
     "name": "stdout",
     "output_type": "stream",
     "text": [
      "BIRCH Clustering:_Income_rate_vs_Employment_count\n",
      "BIRCH Clustering:_Income_rate_vs_ALCOHOL\n",
      "BIRCH Clustering:_Income_rate_vs_DRUG\n",
      "BIRCH Clustering:_Income_rate_vs_SMR\n",
      "BIRCH Clustering:_Income_rate_vs_EMERG\n",
      "BIRCH Clustering:_Income_rate_vs_Noquals\n",
      "BIRCH Clustering:_Income_rate_vs_NEET\n"
     ]
    },
    {
     "name": "stderr",
     "output_type": "stream",
     "text": [
      "c:\\Python311\\Lib\\site-packages\\sklearn\\cluster\\_birch.py:726: ConvergenceWarning: Number of subclusters found (1) by BIRCH is less than (5). Decrease the threshold.\n",
      "  \"Number of subclusters found (%d) by BIRCH is less \"\n"
     ]
    },
    {
     "name": "stdout",
     "output_type": "stream",
     "text": [
      "BIRCH Clustering:_Income_rate_vs_drive_petrol\n",
      "BIRCH Clustering:_Income_rate_vs_drive_GP\n",
      "BIRCH Clustering:_Income_rate_vs_drive_PO\n",
      "BIRCH Clustering:_Income_rate_vs_drive_primary\n",
      "BIRCH Clustering:_Income_rate_vs_drive_retail\n",
      "BIRCH Clustering:_Income_rate_vs_drive_secondary\n",
      "BIRCH Clustering:_Income_rate_vs_PT_GP\n",
      "BIRCH Clustering:_Income_rate_vs_PT_Post\n",
      "BIRCH Clustering:_Income_rate_vs_PT_retail\n",
      "BIRCH Clustering:_Income_rate_vs_overcrowded_count\n",
      "BIRCH Clustering:_Income_rate_vs_nocentralheat_count\n",
      "BIRCH Clustering:_Income_rate_vs_overcrowded_rate\n"
     ]
    },
    {
     "name": "stderr",
     "output_type": "stream",
     "text": [
      "c:\\Python311\\Lib\\site-packages\\sklearn\\cluster\\_birch.py:726: ConvergenceWarning: Number of subclusters found (1) by BIRCH is less than (5). Decrease the threshold.\n",
      "  \"Number of subclusters found (%d) by BIRCH is less \"\n"
     ]
    },
    {
     "name": "stdout",
     "output_type": "stream",
     "text": [
      "BIRCH Clustering:_Income_rate_vs_nocentralheat_rate\n"
     ]
    },
    {
     "name": "stderr",
     "output_type": "stream",
     "text": [
      "c:\\Python311\\Lib\\site-packages\\sklearn\\cluster\\_birch.py:726: ConvergenceWarning: Number of subclusters found (1) by BIRCH is less than (5). Decrease the threshold.\n",
      "  \"Number of subclusters found (%d) by BIRCH is less \"\n"
     ]
    },
    {
     "name": "stdout",
     "output_type": "stream",
     "text": [
      "BIRCH Clustering:_Income_rate_vs_year\n"
     ]
    },
    {
     "name": "stderr",
     "output_type": "stream",
     "text": [
      "c:\\Python311\\Lib\\site-packages\\sklearn\\cluster\\_birch.py:726: ConvergenceWarning: Number of subclusters found (2) by BIRCH is less than (5). Decrease the threshold.\n",
      "  \"Number of subclusters found (%d) by BIRCH is less \"\n"
     ]
    },
    {
     "name": "stdout",
     "output_type": "stream",
     "text": [
      "BIRCH Clustering:_Income_count_vs_Employment_rate\n",
      "BIRCH Clustering:_Income_count_vs_Employment_count\n",
      "BIRCH Clustering:_Income_count_vs_ALCOHOL\n",
      "BIRCH Clustering:_Income_count_vs_DRUG\n",
      "BIRCH Clustering:_Income_count_vs_SMR\n",
      "BIRCH Clustering:_Income_count_vs_EMERG\n",
      "BIRCH Clustering:_Income_count_vs_Noquals\n",
      "BIRCH Clustering:_Income_count_vs_NEET\n",
      "BIRCH Clustering:_Income_count_vs_drive_petrol\n",
      "BIRCH Clustering:_Income_count_vs_drive_GP\n",
      "BIRCH Clustering:_Income_count_vs_drive_PO\n",
      "BIRCH Clustering:_Income_count_vs_drive_primary\n",
      "BIRCH Clustering:_Income_count_vs_drive_retail\n",
      "BIRCH Clustering:_Income_count_vs_drive_secondary\n",
      "BIRCH Clustering:_Income_count_vs_PT_GP\n",
      "BIRCH Clustering:_Income_count_vs_PT_Post\n",
      "BIRCH Clustering:_Income_count_vs_PT_retail\n",
      "BIRCH Clustering:_Income_count_vs_overcrowded_count\n",
      "BIRCH Clustering:_Income_count_vs_nocentralheat_count\n",
      "BIRCH Clustering:_Income_count_vs_overcrowded_rate\n",
      "BIRCH Clustering:_Income_count_vs_nocentralheat_rate\n",
      "BIRCH Clustering:_Income_count_vs_year\n",
      "BIRCH Clustering:_Employment_rate_vs_Employment_count\n",
      "BIRCH Clustering:_Employment_rate_vs_ALCOHOL\n",
      "BIRCH Clustering:_Employment_rate_vs_DRUG\n",
      "BIRCH Clustering:_Employment_rate_vs_SMR\n",
      "BIRCH Clustering:_Employment_rate_vs_EMERG\n",
      "BIRCH Clustering:_Employment_rate_vs_Noquals\n",
      "BIRCH Clustering:_Employment_rate_vs_NEET\n"
     ]
    },
    {
     "name": "stderr",
     "output_type": "stream",
     "text": [
      "c:\\Python311\\Lib\\site-packages\\sklearn\\cluster\\_birch.py:726: ConvergenceWarning: Number of subclusters found (1) by BIRCH is less than (5). Decrease the threshold.\n",
      "  \"Number of subclusters found (%d) by BIRCH is less \"\n"
     ]
    },
    {
     "name": "stdout",
     "output_type": "stream",
     "text": [
      "BIRCH Clustering:_Employment_rate_vs_drive_petrol\n",
      "BIRCH Clustering:_Employment_rate_vs_drive_GP\n",
      "BIRCH Clustering:_Employment_rate_vs_drive_PO\n",
      "BIRCH Clustering:_Employment_rate_vs_drive_primary\n",
      "BIRCH Clustering:_Employment_rate_vs_drive_retail\n",
      "BIRCH Clustering:_Employment_rate_vs_drive_secondary\n",
      "BIRCH Clustering:_Employment_rate_vs_PT_GP\n",
      "BIRCH Clustering:_Employment_rate_vs_PT_Post\n",
      "BIRCH Clustering:_Employment_rate_vs_PT_retail\n",
      "BIRCH Clustering:_Employment_rate_vs_overcrowded_count\n",
      "BIRCH Clustering:_Employment_rate_vs_nocentralheat_count\n",
      "BIRCH Clustering:_Employment_rate_vs_overcrowded_rate\n"
     ]
    },
    {
     "name": "stderr",
     "output_type": "stream",
     "text": [
      "c:\\Python311\\Lib\\site-packages\\sklearn\\cluster\\_birch.py:726: ConvergenceWarning: Number of subclusters found (1) by BIRCH is less than (5). Decrease the threshold.\n",
      "  \"Number of subclusters found (%d) by BIRCH is less \"\n"
     ]
    },
    {
     "name": "stdout",
     "output_type": "stream",
     "text": [
      "BIRCH Clustering:_Employment_rate_vs_nocentralheat_rate\n"
     ]
    },
    {
     "name": "stderr",
     "output_type": "stream",
     "text": [
      "c:\\Python311\\Lib\\site-packages\\sklearn\\cluster\\_birch.py:726: ConvergenceWarning: Number of subclusters found (1) by BIRCH is less than (5). Decrease the threshold.\n",
      "  \"Number of subclusters found (%d) by BIRCH is less \"\n"
     ]
    },
    {
     "name": "stdout",
     "output_type": "stream",
     "text": [
      "BIRCH Clustering:_Employment_rate_vs_year\n"
     ]
    },
    {
     "name": "stderr",
     "output_type": "stream",
     "text": [
      "c:\\Python311\\Lib\\site-packages\\sklearn\\cluster\\_birch.py:726: ConvergenceWarning: Number of subclusters found (2) by BIRCH is less than (5). Decrease the threshold.\n",
      "  \"Number of subclusters found (%d) by BIRCH is less \"\n"
     ]
    },
    {
     "name": "stdout",
     "output_type": "stream",
     "text": [
      "BIRCH Clustering:_Employment_count_vs_ALCOHOL\n",
      "BIRCH Clustering:_Employment_count_vs_DRUG\n",
      "BIRCH Clustering:_Employment_count_vs_SMR\n",
      "BIRCH Clustering:_Employment_count_vs_EMERG\n",
      "BIRCH Clustering:_Employment_count_vs_Noquals\n",
      "BIRCH Clustering:_Employment_count_vs_NEET\n",
      "BIRCH Clustering:_Employment_count_vs_drive_petrol\n",
      "BIRCH Clustering:_Employment_count_vs_drive_GP\n",
      "BIRCH Clustering:_Employment_count_vs_drive_PO\n",
      "BIRCH Clustering:_Employment_count_vs_drive_primary\n",
      "BIRCH Clustering:_Employment_count_vs_drive_retail\n",
      "BIRCH Clustering:_Employment_count_vs_drive_secondary\n",
      "BIRCH Clustering:_Employment_count_vs_PT_GP\n",
      "BIRCH Clustering:_Employment_count_vs_PT_Post\n",
      "BIRCH Clustering:_Employment_count_vs_PT_retail\n",
      "BIRCH Clustering:_Employment_count_vs_overcrowded_count\n",
      "BIRCH Clustering:_Employment_count_vs_nocentralheat_count\n",
      "BIRCH Clustering:_Employment_count_vs_overcrowded_rate\n",
      "BIRCH Clustering:_Employment_count_vs_nocentralheat_rate\n",
      "BIRCH Clustering:_Employment_count_vs_year\n",
      "BIRCH Clustering:_ALCOHOL_vs_DRUG\n",
      "BIRCH Clustering:_ALCOHOL_vs_SMR\n",
      "BIRCH Clustering:_ALCOHOL_vs_EMERG\n",
      "BIRCH Clustering:_ALCOHOL_vs_Noquals\n",
      "BIRCH Clustering:_ALCOHOL_vs_NEET\n",
      "BIRCH Clustering:_ALCOHOL_vs_drive_petrol\n",
      "BIRCH Clustering:_ALCOHOL_vs_drive_GP\n",
      "BIRCH Clustering:_ALCOHOL_vs_drive_PO\n",
      "BIRCH Clustering:_ALCOHOL_vs_drive_primary\n",
      "BIRCH Clustering:_ALCOHOL_vs_drive_retail\n",
      "BIRCH Clustering:_ALCOHOL_vs_drive_secondary\n",
      "BIRCH Clustering:_ALCOHOL_vs_PT_GP\n",
      "BIRCH Clustering:_ALCOHOL_vs_PT_Post\n",
      "BIRCH Clustering:_ALCOHOL_vs_PT_retail\n",
      "BIRCH Clustering:_ALCOHOL_vs_overcrowded_count\n",
      "BIRCH Clustering:_ALCOHOL_vs_nocentralheat_count\n",
      "BIRCH Clustering:_ALCOHOL_vs_overcrowded_rate\n",
      "BIRCH Clustering:_ALCOHOL_vs_nocentralheat_rate\n",
      "BIRCH Clustering:_ALCOHOL_vs_year\n",
      "BIRCH Clustering:_DRUG_vs_SMR\n",
      "BIRCH Clustering:_DRUG_vs_EMERG\n",
      "BIRCH Clustering:_DRUG_vs_Noquals\n",
      "BIRCH Clustering:_DRUG_vs_NEET\n",
      "BIRCH Clustering:_DRUG_vs_drive_petrol\n",
      "BIRCH Clustering:_DRUG_vs_drive_GP\n",
      "BIRCH Clustering:_DRUG_vs_drive_PO\n",
      "BIRCH Clustering:_DRUG_vs_drive_primary\n",
      "BIRCH Clustering:_DRUG_vs_drive_retail\n",
      "BIRCH Clustering:_DRUG_vs_drive_secondary\n",
      "BIRCH Clustering:_DRUG_vs_PT_GP\n",
      "BIRCH Clustering:_DRUG_vs_PT_Post\n",
      "BIRCH Clustering:_DRUG_vs_PT_retail\n",
      "BIRCH Clustering:_DRUG_vs_overcrowded_count\n",
      "BIRCH Clustering:_DRUG_vs_nocentralheat_count\n",
      "BIRCH Clustering:_DRUG_vs_overcrowded_rate\n",
      "BIRCH Clustering:_DRUG_vs_nocentralheat_rate\n",
      "BIRCH Clustering:_DRUG_vs_year\n",
      "BIRCH Clustering:_SMR_vs_EMERG\n",
      "BIRCH Clustering:_SMR_vs_Noquals\n",
      "BIRCH Clustering:_SMR_vs_NEET\n",
      "BIRCH Clustering:_SMR_vs_drive_petrol\n",
      "BIRCH Clustering:_SMR_vs_drive_GP\n",
      "BIRCH Clustering:_SMR_vs_drive_PO\n",
      "BIRCH Clustering:_SMR_vs_drive_primary\n",
      "BIRCH Clustering:_SMR_vs_drive_retail\n",
      "BIRCH Clustering:_SMR_vs_drive_secondary\n",
      "BIRCH Clustering:_SMR_vs_PT_GP\n",
      "BIRCH Clustering:_SMR_vs_PT_Post\n",
      "BIRCH Clustering:_SMR_vs_PT_retail\n",
      "BIRCH Clustering:_SMR_vs_overcrowded_count\n",
      "BIRCH Clustering:_SMR_vs_nocentralheat_count\n",
      "BIRCH Clustering:_SMR_vs_overcrowded_rate\n",
      "BIRCH Clustering:_SMR_vs_nocentralheat_rate\n",
      "BIRCH Clustering:_SMR_vs_year\n",
      "BIRCH Clustering:_EMERG_vs_Noquals\n",
      "BIRCH Clustering:_EMERG_vs_NEET\n",
      "BIRCH Clustering:_EMERG_vs_drive_petrol\n",
      "BIRCH Clustering:_EMERG_vs_drive_GP\n",
      "BIRCH Clustering:_EMERG_vs_drive_PO\n",
      "BIRCH Clustering:_EMERG_vs_drive_primary\n",
      "BIRCH Clustering:_EMERG_vs_drive_retail\n",
      "BIRCH Clustering:_EMERG_vs_drive_secondary\n",
      "BIRCH Clustering:_EMERG_vs_PT_GP\n",
      "BIRCH Clustering:_EMERG_vs_PT_Post\n",
      "BIRCH Clustering:_EMERG_vs_PT_retail\n",
      "BIRCH Clustering:_EMERG_vs_overcrowded_count\n",
      "BIRCH Clustering:_EMERG_vs_nocentralheat_count\n",
      "BIRCH Clustering:_EMERG_vs_overcrowded_rate\n",
      "BIRCH Clustering:_EMERG_vs_nocentralheat_rate\n",
      "BIRCH Clustering:_EMERG_vs_year\n",
      "BIRCH Clustering:_Noquals_vs_NEET\n",
      "BIRCH Clustering:_Noquals_vs_drive_petrol\n",
      "BIRCH Clustering:_Noquals_vs_drive_GP\n",
      "BIRCH Clustering:_Noquals_vs_drive_PO\n",
      "BIRCH Clustering:_Noquals_vs_drive_primary\n",
      "BIRCH Clustering:_Noquals_vs_drive_retail\n",
      "BIRCH Clustering:_Noquals_vs_drive_secondary\n",
      "BIRCH Clustering:_Noquals_vs_PT_GP\n",
      "BIRCH Clustering:_Noquals_vs_PT_Post\n",
      "BIRCH Clustering:_Noquals_vs_PT_retail\n",
      "BIRCH Clustering:_Noquals_vs_overcrowded_count\n",
      "BIRCH Clustering:_Noquals_vs_nocentralheat_count\n",
      "BIRCH Clustering:_Noquals_vs_overcrowded_rate\n",
      "BIRCH Clustering:_Noquals_vs_nocentralheat_rate\n",
      "BIRCH Clustering:_Noquals_vs_year\n",
      "BIRCH Clustering:_NEET_vs_drive_petrol\n",
      "BIRCH Clustering:_NEET_vs_drive_GP\n",
      "BIRCH Clustering:_NEET_vs_drive_PO\n",
      "BIRCH Clustering:_NEET_vs_drive_primary\n",
      "BIRCH Clustering:_NEET_vs_drive_retail\n",
      "BIRCH Clustering:_NEET_vs_drive_secondary\n",
      "BIRCH Clustering:_NEET_vs_PT_GP\n",
      "BIRCH Clustering:_NEET_vs_PT_Post\n",
      "BIRCH Clustering:_NEET_vs_PT_retail\n",
      "BIRCH Clustering:_NEET_vs_overcrowded_count\n",
      "BIRCH Clustering:_NEET_vs_nocentralheat_count\n",
      "BIRCH Clustering:_NEET_vs_overcrowded_rate\n"
     ]
    },
    {
     "name": "stderr",
     "output_type": "stream",
     "text": [
      "c:\\Python311\\Lib\\site-packages\\sklearn\\cluster\\_birch.py:726: ConvergenceWarning: Number of subclusters found (1) by BIRCH is less than (5). Decrease the threshold.\n",
      "  \"Number of subclusters found (%d) by BIRCH is less \"\n"
     ]
    },
    {
     "name": "stdout",
     "output_type": "stream",
     "text": [
      "BIRCH Clustering:_NEET_vs_nocentralheat_rate\n"
     ]
    },
    {
     "name": "stderr",
     "output_type": "stream",
     "text": [
      "c:\\Python311\\Lib\\site-packages\\sklearn\\cluster\\_birch.py:726: ConvergenceWarning: Number of subclusters found (1) by BIRCH is less than (5). Decrease the threshold.\n",
      "  \"Number of subclusters found (%d) by BIRCH is less \"\n"
     ]
    },
    {
     "name": "stdout",
     "output_type": "stream",
     "text": [
      "BIRCH Clustering:_NEET_vs_year\n"
     ]
    },
    {
     "name": "stderr",
     "output_type": "stream",
     "text": [
      "c:\\Python311\\Lib\\site-packages\\sklearn\\cluster\\_birch.py:726: ConvergenceWarning: Number of subclusters found (2) by BIRCH is less than (5). Decrease the threshold.\n",
      "  \"Number of subclusters found (%d) by BIRCH is less \"\n"
     ]
    },
    {
     "name": "stdout",
     "output_type": "stream",
     "text": [
      "BIRCH Clustering:_drive_petrol_vs_drive_GP\n",
      "BIRCH Clustering:_drive_petrol_vs_drive_PO\n",
      "BIRCH Clustering:_drive_petrol_vs_drive_primary\n",
      "BIRCH Clustering:_drive_petrol_vs_drive_retail\n",
      "BIRCH Clustering:_drive_petrol_vs_drive_secondary\n",
      "BIRCH Clustering:_drive_petrol_vs_PT_GP\n",
      "BIRCH Clustering:_drive_petrol_vs_PT_Post\n",
      "BIRCH Clustering:_drive_petrol_vs_PT_retail\n",
      "BIRCH Clustering:_drive_petrol_vs_overcrowded_count\n",
      "BIRCH Clustering:_drive_petrol_vs_nocentralheat_count\n",
      "BIRCH Clustering:_drive_petrol_vs_overcrowded_rate\n",
      "BIRCH Clustering:_drive_petrol_vs_nocentralheat_rate\n",
      "BIRCH Clustering:_drive_petrol_vs_year\n",
      "BIRCH Clustering:_drive_GP_vs_drive_PO\n",
      "BIRCH Clustering:_drive_GP_vs_drive_primary\n",
      "BIRCH Clustering:_drive_GP_vs_drive_retail\n",
      "BIRCH Clustering:_drive_GP_vs_drive_secondary\n",
      "BIRCH Clustering:_drive_GP_vs_PT_GP\n",
      "BIRCH Clustering:_drive_GP_vs_PT_Post\n",
      "BIRCH Clustering:_drive_GP_vs_PT_retail\n",
      "BIRCH Clustering:_drive_GP_vs_overcrowded_count\n",
      "BIRCH Clustering:_drive_GP_vs_nocentralheat_count\n",
      "BIRCH Clustering:_drive_GP_vs_overcrowded_rate\n",
      "BIRCH Clustering:_drive_GP_vs_nocentralheat_rate\n",
      "BIRCH Clustering:_drive_GP_vs_year\n",
      "BIRCH Clustering:_drive_PO_vs_drive_primary\n",
      "BIRCH Clustering:_drive_PO_vs_drive_retail\n",
      "BIRCH Clustering:_drive_PO_vs_drive_secondary\n",
      "BIRCH Clustering:_drive_PO_vs_PT_GP\n",
      "BIRCH Clustering:_drive_PO_vs_PT_Post\n",
      "BIRCH Clustering:_drive_PO_vs_PT_retail\n",
      "BIRCH Clustering:_drive_PO_vs_overcrowded_count\n",
      "BIRCH Clustering:_drive_PO_vs_nocentralheat_count\n",
      "BIRCH Clustering:_drive_PO_vs_overcrowded_rate\n",
      "BIRCH Clustering:_drive_PO_vs_nocentralheat_rate\n",
      "BIRCH Clustering:_drive_PO_vs_year\n",
      "BIRCH Clustering:_drive_primary_vs_drive_retail\n",
      "BIRCH Clustering:_drive_primary_vs_drive_secondary\n",
      "BIRCH Clustering:_drive_primary_vs_PT_GP\n",
      "BIRCH Clustering:_drive_primary_vs_PT_Post\n",
      "BIRCH Clustering:_drive_primary_vs_PT_retail\n",
      "BIRCH Clustering:_drive_primary_vs_overcrowded_count\n",
      "BIRCH Clustering:_drive_primary_vs_nocentralheat_count\n",
      "BIRCH Clustering:_drive_primary_vs_overcrowded_rate\n",
      "BIRCH Clustering:_drive_primary_vs_nocentralheat_rate\n",
      "BIRCH Clustering:_drive_primary_vs_year\n",
      "BIRCH Clustering:_drive_retail_vs_drive_secondary\n",
      "BIRCH Clustering:_drive_retail_vs_PT_GP\n",
      "BIRCH Clustering:_drive_retail_vs_PT_Post\n",
      "BIRCH Clustering:_drive_retail_vs_PT_retail\n",
      "BIRCH Clustering:_drive_retail_vs_overcrowded_count\n",
      "BIRCH Clustering:_drive_retail_vs_nocentralheat_count\n",
      "BIRCH Clustering:_drive_retail_vs_overcrowded_rate\n",
      "BIRCH Clustering:_drive_retail_vs_nocentralheat_rate\n",
      "BIRCH Clustering:_drive_retail_vs_year\n",
      "BIRCH Clustering:_drive_secondary_vs_PT_GP\n",
      "BIRCH Clustering:_drive_secondary_vs_PT_Post\n",
      "BIRCH Clustering:_drive_secondary_vs_PT_retail\n",
      "BIRCH Clustering:_drive_secondary_vs_overcrowded_count\n",
      "BIRCH Clustering:_drive_secondary_vs_nocentralheat_count\n",
      "BIRCH Clustering:_drive_secondary_vs_overcrowded_rate\n",
      "BIRCH Clustering:_drive_secondary_vs_nocentralheat_rate\n",
      "BIRCH Clustering:_drive_secondary_vs_year\n",
      "BIRCH Clustering:_PT_GP_vs_PT_Post\n",
      "BIRCH Clustering:_PT_GP_vs_PT_retail\n",
      "BIRCH Clustering:_PT_GP_vs_overcrowded_count\n",
      "BIRCH Clustering:_PT_GP_vs_nocentralheat_count\n",
      "BIRCH Clustering:_PT_GP_vs_overcrowded_rate\n",
      "BIRCH Clustering:_PT_GP_vs_nocentralheat_rate\n",
      "BIRCH Clustering:_PT_GP_vs_year\n",
      "BIRCH Clustering:_PT_Post_vs_PT_retail\n",
      "BIRCH Clustering:_PT_Post_vs_overcrowded_count\n",
      "BIRCH Clustering:_PT_Post_vs_nocentralheat_count\n",
      "BIRCH Clustering:_PT_Post_vs_overcrowded_rate\n",
      "BIRCH Clustering:_PT_Post_vs_nocentralheat_rate\n",
      "BIRCH Clustering:_PT_Post_vs_year\n",
      "BIRCH Clustering:_PT_retail_vs_overcrowded_count\n",
      "BIRCH Clustering:_PT_retail_vs_nocentralheat_count\n",
      "BIRCH Clustering:_PT_retail_vs_overcrowded_rate\n",
      "BIRCH Clustering:_PT_retail_vs_nocentralheat_rate\n",
      "BIRCH Clustering:_PT_retail_vs_year\n",
      "BIRCH Clustering:_overcrowded_count_vs_nocentralheat_count\n",
      "BIRCH Clustering:_overcrowded_count_vs_overcrowded_rate\n",
      "BIRCH Clustering:_overcrowded_count_vs_nocentralheat_rate\n",
      "BIRCH Clustering:_overcrowded_count_vs_year\n",
      "BIRCH Clustering:_nocentralheat_count_vs_overcrowded_rate\n",
      "BIRCH Clustering:_nocentralheat_count_vs_nocentralheat_rate\n",
      "BIRCH Clustering:_nocentralheat_count_vs_year\n",
      "BIRCH Clustering:_overcrowded_rate_vs_nocentralheat_rate\n"
     ]
    },
    {
     "name": "stderr",
     "output_type": "stream",
     "text": [
      "c:\\Python311\\Lib\\site-packages\\sklearn\\cluster\\_birch.py:726: ConvergenceWarning: Number of subclusters found (1) by BIRCH is less than (5). Decrease the threshold.\n",
      "  \"Number of subclusters found (%d) by BIRCH is less \"\n"
     ]
    },
    {
     "name": "stdout",
     "output_type": "stream",
     "text": [
      "BIRCH Clustering:_overcrowded_rate_vs_year\n"
     ]
    },
    {
     "name": "stderr",
     "output_type": "stream",
     "text": [
      "c:\\Python311\\Lib\\site-packages\\sklearn\\cluster\\_birch.py:726: ConvergenceWarning: Number of subclusters found (2) by BIRCH is less than (5). Decrease the threshold.\n",
      "  \"Number of subclusters found (%d) by BIRCH is less \"\n"
     ]
    },
    {
     "name": "stdout",
     "output_type": "stream",
     "text": [
      "BIRCH Clustering:_nocentralheat_rate_vs_year\n"
     ]
    },
    {
     "name": "stderr",
     "output_type": "stream",
     "text": [
      "c:\\Python311\\Lib\\site-packages\\sklearn\\cluster\\_birch.py:726: ConvergenceWarning: Number of subclusters found (2) by BIRCH is less than (5). Decrease the threshold.\n",
      "  \"Number of subclusters found (%d) by BIRCH is less \"\n"
     ]
    }
   ],
   "source": [
    "from sklearn.cluster import Birch\n",
    "\n",
    "for label1, label2 in label_pairs:\n",
    "    try:\n",
    "        data=combined_simd_result.copy()\n",
    "        name='BIRCH Clustering:_'+ label1 +'_vs_' + label2\n",
    "        print(name)\n",
    "        X= data.copy()\n",
    "        X = X[[label1, label2]]\n",
    "        X=X.dropna()\n",
    "        \n",
    "        # Use BIRCH instead of DBSCAN\n",
    "        birch = Birch(n_clusters=5).fit(X)\n",
    "        labels = birch.labels_\n",
    "        \n",
    "        X['label'] = labels\n",
    "\n",
    "        # Convert labels to string\n",
    "        X['label'] = X['label'].astype(str)\n",
    "\n",
    "        # Create a ColumnDataSource from df: source\n",
    "        source = ColumnDataSource(X)\n",
    "\n",
    "        # Create a palette with 'black' for noise and the rest of the colors for clusters\n",
    "        palette = ['black'] + list(Category20[20])\n",
    "\n",
    "        # Create a CategoricalColorMapper from the 'label' column: color_mapper\n",
    "        color_mapper = CategoricalColorMapper(factors=X['label'].unique().tolist(), palette=palette)\n",
    "\n",
    "        # Create a figure with the \"box_select\" tool: p\n",
    "        p = figure(x_axis_label=label1, y_axis_label=label2, tools='box_select')\n",
    "\n",
    "        # Add a circle glyph to the figure p\n",
    "        p.circle(x=label1, y=label2, source=source,\n",
    "                 color=dict(field='label', transform=color_mapper),\n",
    "                 legend_field='label')\n",
    "\n",
    "        # Create_html_file() \n",
    "        output_file(filename=\"./BIRCH_Clustering_Output/\"+label1+'_'+label2+'.html')\n",
    "\n",
    "        # Display the layout\n",
    "        show(p)\n",
    "    except Exception as e:\n",
    "        print(\"Errors with labels :\", label1, label2, \"Error message:\", str(e))\n",
    "        break\n"
   ]
  },
  {
   "cell_type": "markdown",
   "metadata": {},
   "source": [
    "#### 7.7 OPTICS Clustering"
   ]
  },
  {
   "cell_type": "code",
   "execution_count": 30,
   "metadata": {},
   "outputs": [
    {
     "name": "stdout",
     "output_type": "stream",
     "text": [
      "OPTICS Clustering:_Total_population_vs_SMR\n",
      "OPTICS Clustering:_Total_population_vs_EMERG\n",
      "OPTICS Clustering:_Total_population_vs_Noquals\n",
      "OPTICS Clustering:_Total_population_vs_NEET\n",
      "OPTICS Clustering:_Total_population_vs_drive_petrol\n",
      "OPTICS Clustering:_Total_population_vs_drive_GP\n",
      "OPTICS Clustering:_Total_population_vs_drive_PO\n",
      "OPTICS Clustering:_Total_population_vs_drive_primary\n",
      "OPTICS Clustering:_Total_population_vs_drive_retail\n",
      "OPTICS Clustering:_Total_population_vs_drive_secondary\n",
      "OPTICS Clustering:_Total_population_vs_PT_GP\n",
      "OPTICS Clustering:_Total_population_vs_PT_Post\n",
      "OPTICS Clustering:_Total_population_vs_PT_retail\n",
      "OPTICS Clustering:_Total_population_vs_overcrowded_count\n",
      "OPTICS Clustering:_Total_population_vs_nocentralheat_count\n",
      "OPTICS Clustering:_Total_population_vs_overcrowded_rate\n",
      "OPTICS Clustering:_Total_population_vs_nocentralheat_rate\n",
      "OPTICS Clustering:_Total_population_vs_year\n"
     ]
    },
    {
     "name": "stderr",
     "output_type": "stream",
     "text": [
      "c:\\Python311\\Lib\\site-packages\\sklearn\\cluster\\_optics.py:995: RuntimeWarning: divide by zero encountered in divide\n",
      "  ratio = reachability_plot[:-1] / reachability_plot[1:]\n"
     ]
    },
    {
     "name": "stdout",
     "output_type": "stream",
     "text": [
      "OPTICS Clustering:_Working_age_population_revised_vs_Income_rate\n",
      "OPTICS Clustering:_Working_age_population_revised_vs_Income_count\n",
      "OPTICS Clustering:_Working_age_population_revised_vs_Employment_rate\n",
      "OPTICS Clustering:_Working_age_population_revised_vs_Employment_count\n",
      "OPTICS Clustering:_Working_age_population_revised_vs_ALCOHOL\n",
      "OPTICS Clustering:_Working_age_population_revised_vs_DRUG\n"
     ]
    },
    {
     "name": "stderr",
     "output_type": "stream",
     "text": [
      "c:\\Python311\\Lib\\site-packages\\sklearn\\cluster\\_optics.py:995: RuntimeWarning: divide by zero encountered in divide\n",
      "  ratio = reachability_plot[:-1] / reachability_plot[1:]\n"
     ]
    },
    {
     "name": "stdout",
     "output_type": "stream",
     "text": [
      "OPTICS Clustering:_Working_age_population_revised_vs_SMR\n",
      "OPTICS Clustering:_Working_age_population_revised_vs_EMERG\n",
      "OPTICS Clustering:_Working_age_population_revised_vs_Noquals\n",
      "OPTICS Clustering:_Working_age_population_revised_vs_NEET\n",
      "OPTICS Clustering:_Working_age_population_revised_vs_drive_petrol\n",
      "OPTICS Clustering:_Working_age_population_revised_vs_drive_GP\n",
      "OPTICS Clustering:_Working_age_population_revised_vs_drive_PO\n",
      "OPTICS Clustering:_Working_age_population_revised_vs_drive_primary\n",
      "OPTICS Clustering:_Working_age_population_revised_vs_drive_retail\n",
      "OPTICS Clustering:_Working_age_population_revised_vs_drive_secondary\n",
      "OPTICS Clustering:_Working_age_population_revised_vs_PT_GP\n",
      "OPTICS Clustering:_Working_age_population_revised_vs_PT_Post\n",
      "OPTICS Clustering:_Working_age_population_revised_vs_PT_retail\n",
      "OPTICS Clustering:_Working_age_population_revised_vs_overcrowded_count\n",
      "OPTICS Clustering:_Working_age_population_revised_vs_nocentralheat_count\n",
      "OPTICS Clustering:_Working_age_population_revised_vs_overcrowded_rate\n",
      "OPTICS Clustering:_Working_age_population_revised_vs_nocentralheat_rate\n",
      "OPTICS Clustering:_Working_age_population_revised_vs_year\n"
     ]
    },
    {
     "name": "stderr",
     "output_type": "stream",
     "text": [
      "c:\\Python311\\Lib\\site-packages\\sklearn\\cluster\\_optics.py:995: RuntimeWarning: divide by zero encountered in divide\n",
      "  ratio = reachability_plot[:-1] / reachability_plot[1:]\n"
     ]
    },
    {
     "name": "stdout",
     "output_type": "stream",
     "text": [
      "OPTICS Clustering:_Income_rate_vs_Income_count\n"
     ]
    },
    {
     "name": "stderr",
     "output_type": "stream",
     "text": [
      "c:\\Python311\\Lib\\site-packages\\sklearn\\cluster\\_optics.py:995: RuntimeWarning: divide by zero encountered in divide\n",
      "  ratio = reachability_plot[:-1] / reachability_plot[1:]\n"
     ]
    },
    {
     "name": "stdout",
     "output_type": "stream",
     "text": [
      "OPTICS Clustering:_Income_rate_vs_Employment_rate\n"
     ]
    },
    {
     "name": "stderr",
     "output_type": "stream",
     "text": [
      "c:\\Python311\\Lib\\site-packages\\sklearn\\cluster\\_optics.py:995: RuntimeWarning: divide by zero encountered in divide\n",
      "  ratio = reachability_plot[:-1] / reachability_plot[1:]\n"
     ]
    },
    {
     "name": "stdout",
     "output_type": "stream",
     "text": [
      "OPTICS Clustering:_Income_rate_vs_Employment_count\n"
     ]
    },
    {
     "name": "stderr",
     "output_type": "stream",
     "text": [
      "c:\\Python311\\Lib\\site-packages\\sklearn\\cluster\\_optics.py:995: RuntimeWarning: divide by zero encountered in divide\n",
      "  ratio = reachability_plot[:-1] / reachability_plot[1:]\n"
     ]
    },
    {
     "name": "stdout",
     "output_type": "stream",
     "text": [
      "OPTICS Clustering:_Income_rate_vs_ALCOHOL\n"
     ]
    },
    {
     "name": "stderr",
     "output_type": "stream",
     "text": [
      "c:\\Python311\\Lib\\site-packages\\sklearn\\cluster\\_optics.py:995: RuntimeWarning: divide by zero encountered in divide\n",
      "  ratio = reachability_plot[:-1] / reachability_plot[1:]\n"
     ]
    },
    {
     "name": "stdout",
     "output_type": "stream",
     "text": [
      "OPTICS Clustering:_Income_rate_vs_DRUG\n"
     ]
    },
    {
     "name": "stderr",
     "output_type": "stream",
     "text": [
      "c:\\Python311\\Lib\\site-packages\\sklearn\\cluster\\_optics.py:995: RuntimeWarning: divide by zero encountered in divide\n",
      "  ratio = reachability_plot[:-1] / reachability_plot[1:]\n"
     ]
    },
    {
     "name": "stdout",
     "output_type": "stream",
     "text": [
      "OPTICS Clustering:_Income_rate_vs_SMR\n"
     ]
    },
    {
     "name": "stderr",
     "output_type": "stream",
     "text": [
      "c:\\Python311\\Lib\\site-packages\\sklearn\\cluster\\_optics.py:995: RuntimeWarning: divide by zero encountered in divide\n",
      "  ratio = reachability_plot[:-1] / reachability_plot[1:]\n"
     ]
    },
    {
     "name": "stdout",
     "output_type": "stream",
     "text": [
      "OPTICS Clustering:_Income_rate_vs_EMERG\n",
      "OPTICS Clustering:_Income_rate_vs_Noquals\n",
      "OPTICS Clustering:_Income_rate_vs_NEET\n"
     ]
    },
    {
     "name": "stderr",
     "output_type": "stream",
     "text": [
      "c:\\Python311\\Lib\\site-packages\\sklearn\\cluster\\_optics.py:995: RuntimeWarning: divide by zero encountered in divide\n",
      "  ratio = reachability_plot[:-1] / reachability_plot[1:]\n"
     ]
    },
    {
     "name": "stdout",
     "output_type": "stream",
     "text": [
      "OPTICS Clustering:_Income_rate_vs_drive_petrol\n",
      "OPTICS Clustering:_Income_rate_vs_drive_GP\n",
      "OPTICS Clustering:_Income_rate_vs_drive_PO\n",
      "OPTICS Clustering:_Income_rate_vs_drive_primary\n",
      "OPTICS Clustering:_Income_rate_vs_drive_retail\n",
      "OPTICS Clustering:_Income_rate_vs_drive_secondary\n",
      "OPTICS Clustering:_Income_rate_vs_PT_GP\n",
      "OPTICS Clustering:_Income_rate_vs_PT_Post\n",
      "OPTICS Clustering:_Income_rate_vs_PT_retail\n",
      "OPTICS Clustering:_Income_rate_vs_overcrowded_count\n"
     ]
    },
    {
     "name": "stderr",
     "output_type": "stream",
     "text": [
      "c:\\Python311\\Lib\\site-packages\\sklearn\\cluster\\_optics.py:995: RuntimeWarning: divide by zero encountered in divide\n",
      "  ratio = reachability_plot[:-1] / reachability_plot[1:]\n"
     ]
    },
    {
     "name": "stdout",
     "output_type": "stream",
     "text": [
      "OPTICS Clustering:_Income_rate_vs_nocentralheat_count\n"
     ]
    },
    {
     "name": "stderr",
     "output_type": "stream",
     "text": [
      "c:\\Python311\\Lib\\site-packages\\sklearn\\cluster\\_optics.py:995: RuntimeWarning: divide by zero encountered in divide\n",
      "  ratio = reachability_plot[:-1] / reachability_plot[1:]\n"
     ]
    },
    {
     "name": "stdout",
     "output_type": "stream",
     "text": [
      "OPTICS Clustering:_Income_rate_vs_overcrowded_rate\n"
     ]
    },
    {
     "name": "stderr",
     "output_type": "stream",
     "text": [
      "c:\\Python311\\Lib\\site-packages\\sklearn\\cluster\\_optics.py:995: RuntimeWarning: divide by zero encountered in divide\n",
      "  ratio = reachability_plot[:-1] / reachability_plot[1:]\n"
     ]
    },
    {
     "name": "stdout",
     "output_type": "stream",
     "text": [
      "OPTICS Clustering:_Income_rate_vs_nocentralheat_rate\n"
     ]
    },
    {
     "name": "stderr",
     "output_type": "stream",
     "text": [
      "c:\\Python311\\Lib\\site-packages\\sklearn\\cluster\\_optics.py:995: RuntimeWarning: divide by zero encountered in divide\n",
      "  ratio = reachability_plot[:-1] / reachability_plot[1:]\n"
     ]
    },
    {
     "name": "stdout",
     "output_type": "stream",
     "text": [
      "OPTICS Clustering:_Income_rate_vs_year\n"
     ]
    },
    {
     "name": "stderr",
     "output_type": "stream",
     "text": [
      "c:\\Python311\\Lib\\site-packages\\sklearn\\cluster\\_optics.py:995: RuntimeWarning: divide by zero encountered in divide\n",
      "  ratio = reachability_plot[:-1] / reachability_plot[1:]\n"
     ]
    },
    {
     "name": "stdout",
     "output_type": "stream",
     "text": [
      "OPTICS Clustering:_Income_count_vs_Employment_rate\n"
     ]
    },
    {
     "name": "stderr",
     "output_type": "stream",
     "text": [
      "c:\\Python311\\Lib\\site-packages\\sklearn\\cluster\\_optics.py:995: RuntimeWarning: divide by zero encountered in divide\n",
      "  ratio = reachability_plot[:-1] / reachability_plot[1:]\n"
     ]
    },
    {
     "name": "stdout",
     "output_type": "stream",
     "text": [
      "OPTICS Clustering:_Income_count_vs_Employment_count\n"
     ]
    },
    {
     "name": "stderr",
     "output_type": "stream",
     "text": [
      "c:\\Python311\\Lib\\site-packages\\sklearn\\cluster\\_optics.py:995: RuntimeWarning: divide by zero encountered in divide\n",
      "  ratio = reachability_plot[:-1] / reachability_plot[1:]\n"
     ]
    },
    {
     "name": "stdout",
     "output_type": "stream",
     "text": [
      "OPTICS Clustering:_Income_count_vs_ALCOHOL\n"
     ]
    },
    {
     "name": "stderr",
     "output_type": "stream",
     "text": [
      "c:\\Python311\\Lib\\site-packages\\sklearn\\cluster\\_optics.py:995: RuntimeWarning: divide by zero encountered in divide\n",
      "  ratio = reachability_plot[:-1] / reachability_plot[1:]\n"
     ]
    },
    {
     "name": "stdout",
     "output_type": "stream",
     "text": [
      "OPTICS Clustering:_Income_count_vs_DRUG\n"
     ]
    },
    {
     "name": "stderr",
     "output_type": "stream",
     "text": [
      "c:\\Python311\\Lib\\site-packages\\sklearn\\cluster\\_optics.py:995: RuntimeWarning: divide by zero encountered in divide\n",
      "  ratio = reachability_plot[:-1] / reachability_plot[1:]\n"
     ]
    },
    {
     "name": "stdout",
     "output_type": "stream",
     "text": [
      "OPTICS Clustering:_Income_count_vs_SMR\n",
      "OPTICS Clustering:_Income_count_vs_EMERG\n",
      "OPTICS Clustering:_Income_count_vs_Noquals\n",
      "OPTICS Clustering:_Income_count_vs_NEET\n"
     ]
    },
    {
     "name": "stderr",
     "output_type": "stream",
     "text": [
      "c:\\Python311\\Lib\\site-packages\\sklearn\\cluster\\_optics.py:995: RuntimeWarning: divide by zero encountered in divide\n",
      "  ratio = reachability_plot[:-1] / reachability_plot[1:]\n"
     ]
    },
    {
     "name": "stdout",
     "output_type": "stream",
     "text": [
      "OPTICS Clustering:_Income_count_vs_drive_petrol\n",
      "OPTICS Clustering:_Income_count_vs_drive_GP\n",
      "OPTICS Clustering:_Income_count_vs_drive_PO\n",
      "OPTICS Clustering:_Income_count_vs_drive_primary\n",
      "OPTICS Clustering:_Income_count_vs_drive_retail\n",
      "OPTICS Clustering:_Income_count_vs_drive_secondary\n",
      "OPTICS Clustering:_Income_count_vs_PT_GP\n",
      "OPTICS Clustering:_Income_count_vs_PT_Post\n",
      "OPTICS Clustering:_Income_count_vs_PT_retail\n",
      "OPTICS Clustering:_Income_count_vs_overcrowded_count\n"
     ]
    },
    {
     "name": "stderr",
     "output_type": "stream",
     "text": [
      "c:\\Python311\\Lib\\site-packages\\sklearn\\cluster\\_optics.py:995: RuntimeWarning: divide by zero encountered in divide\n",
      "  ratio = reachability_plot[:-1] / reachability_plot[1:]\n"
     ]
    },
    {
     "name": "stdout",
     "output_type": "stream",
     "text": [
      "OPTICS Clustering:_Income_count_vs_nocentralheat_count\n"
     ]
    },
    {
     "name": "stderr",
     "output_type": "stream",
     "text": [
      "c:\\Python311\\Lib\\site-packages\\sklearn\\cluster\\_optics.py:995: RuntimeWarning: divide by zero encountered in divide\n",
      "  ratio = reachability_plot[:-1] / reachability_plot[1:]\n"
     ]
    },
    {
     "name": "stdout",
     "output_type": "stream",
     "text": [
      "OPTICS Clustering:_Income_count_vs_overcrowded_rate\n",
      "OPTICS Clustering:_Income_count_vs_nocentralheat_rate\n"
     ]
    },
    {
     "name": "stderr",
     "output_type": "stream",
     "text": [
      "c:\\Python311\\Lib\\site-packages\\sklearn\\cluster\\_optics.py:995: RuntimeWarning: divide by zero encountered in divide\n",
      "  ratio = reachability_plot[:-1] / reachability_plot[1:]\n"
     ]
    },
    {
     "name": "stdout",
     "output_type": "stream",
     "text": [
      "OPTICS Clustering:_Income_count_vs_year\n"
     ]
    },
    {
     "name": "stderr",
     "output_type": "stream",
     "text": [
      "c:\\Python311\\Lib\\site-packages\\sklearn\\cluster\\_optics.py:995: RuntimeWarning: divide by zero encountered in divide\n",
      "  ratio = reachability_plot[:-1] / reachability_plot[1:]\n"
     ]
    },
    {
     "name": "stdout",
     "output_type": "stream",
     "text": [
      "OPTICS Clustering:_Employment_rate_vs_Employment_count\n"
     ]
    },
    {
     "name": "stderr",
     "output_type": "stream",
     "text": [
      "c:\\Python311\\Lib\\site-packages\\sklearn\\cluster\\_optics.py:995: RuntimeWarning: divide by zero encountered in divide\n",
      "  ratio = reachability_plot[:-1] / reachability_plot[1:]\n"
     ]
    },
    {
     "name": "stdout",
     "output_type": "stream",
     "text": [
      "OPTICS Clustering:_Employment_rate_vs_ALCOHOL\n"
     ]
    },
    {
     "name": "stderr",
     "output_type": "stream",
     "text": [
      "c:\\Python311\\Lib\\site-packages\\sklearn\\cluster\\_optics.py:995: RuntimeWarning: divide by zero encountered in divide\n",
      "  ratio = reachability_plot[:-1] / reachability_plot[1:]\n"
     ]
    },
    {
     "name": "stdout",
     "output_type": "stream",
     "text": [
      "OPTICS Clustering:_Employment_rate_vs_DRUG\n"
     ]
    },
    {
     "name": "stderr",
     "output_type": "stream",
     "text": [
      "c:\\Python311\\Lib\\site-packages\\sklearn\\cluster\\_optics.py:995: RuntimeWarning: divide by zero encountered in divide\n",
      "  ratio = reachability_plot[:-1] / reachability_plot[1:]\n"
     ]
    },
    {
     "name": "stdout",
     "output_type": "stream",
     "text": [
      "OPTICS Clustering:_Employment_rate_vs_SMR\n"
     ]
    },
    {
     "name": "stderr",
     "output_type": "stream",
     "text": [
      "c:\\Python311\\Lib\\site-packages\\sklearn\\cluster\\_optics.py:995: RuntimeWarning: divide by zero encountered in divide\n",
      "  ratio = reachability_plot[:-1] / reachability_plot[1:]\n"
     ]
    },
    {
     "name": "stdout",
     "output_type": "stream",
     "text": [
      "OPTICS Clustering:_Employment_rate_vs_EMERG\n",
      "OPTICS Clustering:_Employment_rate_vs_Noquals\n",
      "OPTICS Clustering:_Employment_rate_vs_NEET\n"
     ]
    },
    {
     "name": "stderr",
     "output_type": "stream",
     "text": [
      "c:\\Python311\\Lib\\site-packages\\sklearn\\cluster\\_optics.py:995: RuntimeWarning: divide by zero encountered in divide\n",
      "  ratio = reachability_plot[:-1] / reachability_plot[1:]\n"
     ]
    },
    {
     "name": "stdout",
     "output_type": "stream",
     "text": [
      "OPTICS Clustering:_Employment_rate_vs_drive_petrol\n",
      "OPTICS Clustering:_Employment_rate_vs_drive_GP\n",
      "OPTICS Clustering:_Employment_rate_vs_drive_PO\n",
      "OPTICS Clustering:_Employment_rate_vs_drive_primary\n",
      "OPTICS Clustering:_Employment_rate_vs_drive_retail\n",
      "OPTICS Clustering:_Employment_rate_vs_drive_secondary\n",
      "OPTICS Clustering:_Employment_rate_vs_PT_GP\n",
      "OPTICS Clustering:_Employment_rate_vs_PT_Post\n",
      "OPTICS Clustering:_Employment_rate_vs_PT_retail\n",
      "OPTICS Clustering:_Employment_rate_vs_overcrowded_count\n"
     ]
    },
    {
     "name": "stderr",
     "output_type": "stream",
     "text": [
      "c:\\Python311\\Lib\\site-packages\\sklearn\\cluster\\_optics.py:995: RuntimeWarning: divide by zero encountered in divide\n",
      "  ratio = reachability_plot[:-1] / reachability_plot[1:]\n"
     ]
    },
    {
     "name": "stdout",
     "output_type": "stream",
     "text": [
      "OPTICS Clustering:_Employment_rate_vs_nocentralheat_count\n"
     ]
    },
    {
     "name": "stderr",
     "output_type": "stream",
     "text": [
      "c:\\Python311\\Lib\\site-packages\\sklearn\\cluster\\_optics.py:995: RuntimeWarning: divide by zero encountered in divide\n",
      "  ratio = reachability_plot[:-1] / reachability_plot[1:]\n"
     ]
    },
    {
     "name": "stdout",
     "output_type": "stream",
     "text": [
      "OPTICS Clustering:_Employment_rate_vs_overcrowded_rate\n"
     ]
    },
    {
     "name": "stderr",
     "output_type": "stream",
     "text": [
      "c:\\Python311\\Lib\\site-packages\\sklearn\\cluster\\_optics.py:995: RuntimeWarning: divide by zero encountered in divide\n",
      "  ratio = reachability_plot[:-1] / reachability_plot[1:]\n"
     ]
    },
    {
     "name": "stdout",
     "output_type": "stream",
     "text": [
      "OPTICS Clustering:_Employment_rate_vs_nocentralheat_rate\n"
     ]
    },
    {
     "name": "stderr",
     "output_type": "stream",
     "text": [
      "c:\\Python311\\Lib\\site-packages\\sklearn\\cluster\\_optics.py:995: RuntimeWarning: divide by zero encountered in divide\n",
      "  ratio = reachability_plot[:-1] / reachability_plot[1:]\n"
     ]
    },
    {
     "name": "stdout",
     "output_type": "stream",
     "text": [
      "OPTICS Clustering:_Employment_rate_vs_year\n"
     ]
    },
    {
     "name": "stderr",
     "output_type": "stream",
     "text": [
      "c:\\Python311\\Lib\\site-packages\\sklearn\\cluster\\_optics.py:995: RuntimeWarning: divide by zero encountered in divide\n",
      "  ratio = reachability_plot[:-1] / reachability_plot[1:]\n"
     ]
    },
    {
     "name": "stdout",
     "output_type": "stream",
     "text": [
      "OPTICS Clustering:_Employment_count_vs_ALCOHOL\n"
     ]
    },
    {
     "name": "stderr",
     "output_type": "stream",
     "text": [
      "c:\\Python311\\Lib\\site-packages\\sklearn\\cluster\\_optics.py:995: RuntimeWarning: divide by zero encountered in divide\n",
      "  ratio = reachability_plot[:-1] / reachability_plot[1:]\n"
     ]
    },
    {
     "name": "stdout",
     "output_type": "stream",
     "text": [
      "OPTICS Clustering:_Employment_count_vs_DRUG\n"
     ]
    },
    {
     "name": "stderr",
     "output_type": "stream",
     "text": [
      "c:\\Python311\\Lib\\site-packages\\sklearn\\cluster\\_optics.py:995: RuntimeWarning: divide by zero encountered in divide\n",
      "  ratio = reachability_plot[:-1] / reachability_plot[1:]\n"
     ]
    },
    {
     "name": "stdout",
     "output_type": "stream",
     "text": [
      "OPTICS Clustering:_Employment_count_vs_SMR\n"
     ]
    },
    {
     "name": "stderr",
     "output_type": "stream",
     "text": [
      "c:\\Python311\\Lib\\site-packages\\sklearn\\cluster\\_optics.py:995: RuntimeWarning: divide by zero encountered in divide\n",
      "  ratio = reachability_plot[:-1] / reachability_plot[1:]\n"
     ]
    },
    {
     "name": "stdout",
     "output_type": "stream",
     "text": [
      "OPTICS Clustering:_Employment_count_vs_EMERG\n",
      "OPTICS Clustering:_Employment_count_vs_Noquals\n",
      "OPTICS Clustering:_Employment_count_vs_NEET\n"
     ]
    },
    {
     "name": "stderr",
     "output_type": "stream",
     "text": [
      "c:\\Python311\\Lib\\site-packages\\sklearn\\cluster\\_optics.py:995: RuntimeWarning: divide by zero encountered in divide\n",
      "  ratio = reachability_plot[:-1] / reachability_plot[1:]\n"
     ]
    },
    {
     "name": "stdout",
     "output_type": "stream",
     "text": [
      "OPTICS Clustering:_Employment_count_vs_drive_petrol\n",
      "OPTICS Clustering:_Employment_count_vs_drive_GP\n",
      "OPTICS Clustering:_Employment_count_vs_drive_PO\n",
      "OPTICS Clustering:_Employment_count_vs_drive_primary\n",
      "OPTICS Clustering:_Employment_count_vs_drive_retail\n",
      "OPTICS Clustering:_Employment_count_vs_drive_secondary\n",
      "OPTICS Clustering:_Employment_count_vs_PT_GP\n",
      "OPTICS Clustering:_Employment_count_vs_PT_Post\n",
      "OPTICS Clustering:_Employment_count_vs_PT_retail\n",
      "OPTICS Clustering:_Employment_count_vs_overcrowded_count\n"
     ]
    },
    {
     "name": "stderr",
     "output_type": "stream",
     "text": [
      "c:\\Python311\\Lib\\site-packages\\sklearn\\cluster\\_optics.py:995: RuntimeWarning: divide by zero encountered in divide\n",
      "  ratio = reachability_plot[:-1] / reachability_plot[1:]\n"
     ]
    },
    {
     "name": "stdout",
     "output_type": "stream",
     "text": [
      "OPTICS Clustering:_Employment_count_vs_nocentralheat_count\n"
     ]
    },
    {
     "name": "stderr",
     "output_type": "stream",
     "text": [
      "c:\\Python311\\Lib\\site-packages\\sklearn\\cluster\\_optics.py:995: RuntimeWarning: divide by zero encountered in divide\n",
      "  ratio = reachability_plot[:-1] / reachability_plot[1:]\n"
     ]
    },
    {
     "name": "stdout",
     "output_type": "stream",
     "text": [
      "OPTICS Clustering:_Employment_count_vs_overcrowded_rate\n",
      "OPTICS Clustering:_Employment_count_vs_nocentralheat_rate\n"
     ]
    },
    {
     "name": "stderr",
     "output_type": "stream",
     "text": [
      "c:\\Python311\\Lib\\site-packages\\sklearn\\cluster\\_optics.py:995: RuntimeWarning: divide by zero encountered in divide\n",
      "  ratio = reachability_plot[:-1] / reachability_plot[1:]\n"
     ]
    },
    {
     "name": "stdout",
     "output_type": "stream",
     "text": [
      "OPTICS Clustering:_Employment_count_vs_year\n"
     ]
    },
    {
     "name": "stderr",
     "output_type": "stream",
     "text": [
      "c:\\Python311\\Lib\\site-packages\\sklearn\\cluster\\_optics.py:995: RuntimeWarning: divide by zero encountered in divide\n",
      "  ratio = reachability_plot[:-1] / reachability_plot[1:]\n"
     ]
    },
    {
     "name": "stdout",
     "output_type": "stream",
     "text": [
      "OPTICS Clustering:_ALCOHOL_vs_DRUG\n"
     ]
    },
    {
     "name": "stderr",
     "output_type": "stream",
     "text": [
      "c:\\Python311\\Lib\\site-packages\\sklearn\\cluster\\_optics.py:995: RuntimeWarning: divide by zero encountered in divide\n",
      "  ratio = reachability_plot[:-1] / reachability_plot[1:]\n"
     ]
    },
    {
     "name": "stdout",
     "output_type": "stream",
     "text": [
      "OPTICS Clustering:_ALCOHOL_vs_SMR\n",
      "OPTICS Clustering:_ALCOHOL_vs_EMERG\n",
      "OPTICS Clustering:_ALCOHOL_vs_Noquals\n",
      "OPTICS Clustering:_ALCOHOL_vs_NEET\n"
     ]
    },
    {
     "name": "stderr",
     "output_type": "stream",
     "text": [
      "c:\\Python311\\Lib\\site-packages\\sklearn\\cluster\\_optics.py:995: RuntimeWarning: divide by zero encountered in divide\n",
      "  ratio = reachability_plot[:-1] / reachability_plot[1:]\n"
     ]
    },
    {
     "name": "stdout",
     "output_type": "stream",
     "text": [
      "OPTICS Clustering:_ALCOHOL_vs_drive_petrol\n",
      "OPTICS Clustering:_ALCOHOL_vs_drive_GP\n",
      "OPTICS Clustering:_ALCOHOL_vs_drive_PO\n",
      "OPTICS Clustering:_ALCOHOL_vs_drive_primary\n",
      "OPTICS Clustering:_ALCOHOL_vs_drive_retail\n",
      "OPTICS Clustering:_ALCOHOL_vs_drive_secondary\n",
      "OPTICS Clustering:_ALCOHOL_vs_PT_GP\n",
      "OPTICS Clustering:_ALCOHOL_vs_PT_Post\n",
      "OPTICS Clustering:_ALCOHOL_vs_PT_retail\n",
      "OPTICS Clustering:_ALCOHOL_vs_overcrowded_count\n",
      "OPTICS Clustering:_ALCOHOL_vs_nocentralheat_count\n"
     ]
    },
    {
     "name": "stderr",
     "output_type": "stream",
     "text": [
      "c:\\Python311\\Lib\\site-packages\\sklearn\\cluster\\_optics.py:995: RuntimeWarning: divide by zero encountered in divide\n",
      "  ratio = reachability_plot[:-1] / reachability_plot[1:]\n"
     ]
    },
    {
     "name": "stdout",
     "output_type": "stream",
     "text": [
      "OPTICS Clustering:_ALCOHOL_vs_overcrowded_rate\n",
      "OPTICS Clustering:_ALCOHOL_vs_nocentralheat_rate\n"
     ]
    },
    {
     "name": "stderr",
     "output_type": "stream",
     "text": [
      "c:\\Python311\\Lib\\site-packages\\sklearn\\cluster\\_optics.py:995: RuntimeWarning: divide by zero encountered in divide\n",
      "  ratio = reachability_plot[:-1] / reachability_plot[1:]\n"
     ]
    },
    {
     "name": "stdout",
     "output_type": "stream",
     "text": [
      "OPTICS Clustering:_ALCOHOL_vs_year\n"
     ]
    },
    {
     "name": "stderr",
     "output_type": "stream",
     "text": [
      "c:\\Python311\\Lib\\site-packages\\sklearn\\cluster\\_optics.py:995: RuntimeWarning: divide by zero encountered in divide\n",
      "  ratio = reachability_plot[:-1] / reachability_plot[1:]\n"
     ]
    },
    {
     "name": "stdout",
     "output_type": "stream",
     "text": [
      "OPTICS Clustering:_DRUG_vs_SMR\n"
     ]
    },
    {
     "name": "stderr",
     "output_type": "stream",
     "text": [
      "c:\\Python311\\Lib\\site-packages\\sklearn\\cluster\\_optics.py:995: RuntimeWarning: divide by zero encountered in divide\n",
      "  ratio = reachability_plot[:-1] / reachability_plot[1:]\n"
     ]
    },
    {
     "name": "stdout",
     "output_type": "stream",
     "text": [
      "OPTICS Clustering:_DRUG_vs_EMERG\n",
      "OPTICS Clustering:_DRUG_vs_Noquals\n",
      "OPTICS Clustering:_DRUG_vs_NEET\n"
     ]
    },
    {
     "name": "stderr",
     "output_type": "stream",
     "text": [
      "c:\\Python311\\Lib\\site-packages\\sklearn\\cluster\\_optics.py:995: RuntimeWarning: divide by zero encountered in divide\n",
      "  ratio = reachability_plot[:-1] / reachability_plot[1:]\n"
     ]
    },
    {
     "name": "stdout",
     "output_type": "stream",
     "text": [
      "OPTICS Clustering:_DRUG_vs_drive_petrol\n",
      "OPTICS Clustering:_DRUG_vs_drive_GP\n",
      "OPTICS Clustering:_DRUG_vs_drive_PO\n",
      "OPTICS Clustering:_DRUG_vs_drive_primary\n",
      "OPTICS Clustering:_DRUG_vs_drive_retail\n",
      "OPTICS Clustering:_DRUG_vs_drive_secondary\n",
      "OPTICS Clustering:_DRUG_vs_PT_GP\n",
      "OPTICS Clustering:_DRUG_vs_PT_Post\n",
      "OPTICS Clustering:_DRUG_vs_PT_retail\n",
      "OPTICS Clustering:_DRUG_vs_overcrowded_count\n"
     ]
    },
    {
     "name": "stderr",
     "output_type": "stream",
     "text": [
      "c:\\Python311\\Lib\\site-packages\\sklearn\\cluster\\_optics.py:995: RuntimeWarning: divide by zero encountered in divide\n",
      "  ratio = reachability_plot[:-1] / reachability_plot[1:]\n"
     ]
    },
    {
     "name": "stdout",
     "output_type": "stream",
     "text": [
      "OPTICS Clustering:_DRUG_vs_nocentralheat_count\n"
     ]
    },
    {
     "name": "stderr",
     "output_type": "stream",
     "text": [
      "c:\\Python311\\Lib\\site-packages\\sklearn\\cluster\\_optics.py:995: RuntimeWarning: divide by zero encountered in divide\n",
      "  ratio = reachability_plot[:-1] / reachability_plot[1:]\n"
     ]
    },
    {
     "name": "stdout",
     "output_type": "stream",
     "text": [
      "OPTICS Clustering:_DRUG_vs_overcrowded_rate\n"
     ]
    },
    {
     "name": "stderr",
     "output_type": "stream",
     "text": [
      "c:\\Python311\\Lib\\site-packages\\sklearn\\cluster\\_optics.py:995: RuntimeWarning: divide by zero encountered in divide\n",
      "  ratio = reachability_plot[:-1] / reachability_plot[1:]\n"
     ]
    },
    {
     "name": "stdout",
     "output_type": "stream",
     "text": [
      "OPTICS Clustering:_DRUG_vs_nocentralheat_rate\n"
     ]
    },
    {
     "name": "stderr",
     "output_type": "stream",
     "text": [
      "c:\\Python311\\Lib\\site-packages\\sklearn\\cluster\\_optics.py:995: RuntimeWarning: divide by zero encountered in divide\n",
      "  ratio = reachability_plot[:-1] / reachability_plot[1:]\n"
     ]
    },
    {
     "name": "stdout",
     "output_type": "stream",
     "text": [
      "OPTICS Clustering:_DRUG_vs_year\n"
     ]
    },
    {
     "name": "stderr",
     "output_type": "stream",
     "text": [
      "c:\\Python311\\Lib\\site-packages\\sklearn\\cluster\\_optics.py:995: RuntimeWarning: divide by zero encountered in divide\n",
      "  ratio = reachability_plot[:-1] / reachability_plot[1:]\n"
     ]
    },
    {
     "name": "stdout",
     "output_type": "stream",
     "text": [
      "OPTICS Clustering:_SMR_vs_EMERG\n",
      "OPTICS Clustering:_SMR_vs_Noquals\n",
      "OPTICS Clustering:_SMR_vs_NEET\n"
     ]
    },
    {
     "name": "stderr",
     "output_type": "stream",
     "text": [
      "c:\\Python311\\Lib\\site-packages\\sklearn\\cluster\\_optics.py:995: RuntimeWarning: divide by zero encountered in divide\n",
      "  ratio = reachability_plot[:-1] / reachability_plot[1:]\n"
     ]
    },
    {
     "name": "stdout",
     "output_type": "stream",
     "text": [
      "OPTICS Clustering:_SMR_vs_drive_petrol\n",
      "OPTICS Clustering:_SMR_vs_drive_GP\n",
      "OPTICS Clustering:_SMR_vs_drive_PO\n",
      "OPTICS Clustering:_SMR_vs_drive_primary\n",
      "OPTICS Clustering:_SMR_vs_drive_retail\n",
      "OPTICS Clustering:_SMR_vs_drive_secondary\n",
      "OPTICS Clustering:_SMR_vs_PT_GP\n",
      "OPTICS Clustering:_SMR_vs_PT_Post\n",
      "OPTICS Clustering:_SMR_vs_PT_retail\n",
      "OPTICS Clustering:_SMR_vs_overcrowded_count\n",
      "OPTICS Clustering:_SMR_vs_nocentralheat_count\n",
      "OPTICS Clustering:_SMR_vs_overcrowded_rate\n",
      "OPTICS Clustering:_SMR_vs_nocentralheat_rate\n"
     ]
    },
    {
     "name": "stderr",
     "output_type": "stream",
     "text": [
      "c:\\Python311\\Lib\\site-packages\\sklearn\\cluster\\_optics.py:995: RuntimeWarning: divide by zero encountered in divide\n",
      "  ratio = reachability_plot[:-1] / reachability_plot[1:]\n"
     ]
    },
    {
     "name": "stdout",
     "output_type": "stream",
     "text": [
      "OPTICS Clustering:_SMR_vs_year\n"
     ]
    },
    {
     "name": "stderr",
     "output_type": "stream",
     "text": [
      "c:\\Python311\\Lib\\site-packages\\sklearn\\cluster\\_optics.py:995: RuntimeWarning: divide by zero encountered in divide\n",
      "  ratio = reachability_plot[:-1] / reachability_plot[1:]\n"
     ]
    },
    {
     "name": "stdout",
     "output_type": "stream",
     "text": [
      "OPTICS Clustering:_EMERG_vs_Noquals\n",
      "OPTICS Clustering:_EMERG_vs_NEET\n",
      "OPTICS Clustering:_EMERG_vs_drive_petrol\n",
      "OPTICS Clustering:_EMERG_vs_drive_GP\n",
      "OPTICS Clustering:_EMERG_vs_drive_PO\n",
      "OPTICS Clustering:_EMERG_vs_drive_primary\n",
      "OPTICS Clustering:_EMERG_vs_drive_retail\n",
      "OPTICS Clustering:_EMERG_vs_drive_secondary\n",
      "OPTICS Clustering:_EMERG_vs_PT_GP\n",
      "OPTICS Clustering:_EMERG_vs_PT_Post\n",
      "OPTICS Clustering:_EMERG_vs_PT_retail\n",
      "OPTICS Clustering:_EMERG_vs_overcrowded_count\n",
      "OPTICS Clustering:_EMERG_vs_nocentralheat_count\n",
      "OPTICS Clustering:_EMERG_vs_overcrowded_rate\n",
      "OPTICS Clustering:_EMERG_vs_nocentralheat_rate\n",
      "OPTICS Clustering:_EMERG_vs_year\n"
     ]
    },
    {
     "name": "stderr",
     "output_type": "stream",
     "text": [
      "c:\\Python311\\Lib\\site-packages\\sklearn\\cluster\\_optics.py:995: RuntimeWarning: divide by zero encountered in divide\n",
      "  ratio = reachability_plot[:-1] / reachability_plot[1:]\n"
     ]
    },
    {
     "name": "stdout",
     "output_type": "stream",
     "text": [
      "OPTICS Clustering:_Noquals_vs_NEET\n",
      "OPTICS Clustering:_Noquals_vs_drive_petrol\n",
      "OPTICS Clustering:_Noquals_vs_drive_GP\n",
      "OPTICS Clustering:_Noquals_vs_drive_PO\n",
      "OPTICS Clustering:_Noquals_vs_drive_primary\n",
      "OPTICS Clustering:_Noquals_vs_drive_retail\n",
      "OPTICS Clustering:_Noquals_vs_drive_secondary\n",
      "OPTICS Clustering:_Noquals_vs_PT_GP\n",
      "OPTICS Clustering:_Noquals_vs_PT_Post\n",
      "OPTICS Clustering:_Noquals_vs_PT_retail\n",
      "OPTICS Clustering:_Noquals_vs_overcrowded_count\n",
      "OPTICS Clustering:_Noquals_vs_nocentralheat_count\n",
      "OPTICS Clustering:_Noquals_vs_overcrowded_rate\n",
      "OPTICS Clustering:_Noquals_vs_nocentralheat_rate\n",
      "OPTICS Clustering:_Noquals_vs_year\n"
     ]
    },
    {
     "name": "stderr",
     "output_type": "stream",
     "text": [
      "c:\\Python311\\Lib\\site-packages\\sklearn\\cluster\\_optics.py:995: RuntimeWarning: divide by zero encountered in divide\n",
      "  ratio = reachability_plot[:-1] / reachability_plot[1:]\n"
     ]
    },
    {
     "name": "stdout",
     "output_type": "stream",
     "text": [
      "OPTICS Clustering:_NEET_vs_drive_petrol\n",
      "OPTICS Clustering:_NEET_vs_drive_GP\n",
      "OPTICS Clustering:_NEET_vs_drive_PO\n",
      "OPTICS Clustering:_NEET_vs_drive_primary\n",
      "OPTICS Clustering:_NEET_vs_drive_retail\n",
      "OPTICS Clustering:_NEET_vs_drive_secondary\n",
      "OPTICS Clustering:_NEET_vs_PT_GP\n",
      "OPTICS Clustering:_NEET_vs_PT_Post\n",
      "OPTICS Clustering:_NEET_vs_PT_retail\n",
      "OPTICS Clustering:_NEET_vs_overcrowded_count\n"
     ]
    },
    {
     "name": "stderr",
     "output_type": "stream",
     "text": [
      "c:\\Python311\\Lib\\site-packages\\sklearn\\cluster\\_optics.py:995: RuntimeWarning: divide by zero encountered in divide\n",
      "  ratio = reachability_plot[:-1] / reachability_plot[1:]\n"
     ]
    },
    {
     "name": "stdout",
     "output_type": "stream",
     "text": [
      "OPTICS Clustering:_NEET_vs_nocentralheat_count\n"
     ]
    },
    {
     "name": "stderr",
     "output_type": "stream",
     "text": [
      "c:\\Python311\\Lib\\site-packages\\sklearn\\cluster\\_optics.py:995: RuntimeWarning: divide by zero encountered in divide\n",
      "  ratio = reachability_plot[:-1] / reachability_plot[1:]\n"
     ]
    },
    {
     "name": "stdout",
     "output_type": "stream",
     "text": [
      "OPTICS Clustering:_NEET_vs_overcrowded_rate\n"
     ]
    },
    {
     "name": "stderr",
     "output_type": "stream",
     "text": [
      "c:\\Python311\\Lib\\site-packages\\sklearn\\cluster\\_optics.py:995: RuntimeWarning: divide by zero encountered in divide\n",
      "  ratio = reachability_plot[:-1] / reachability_plot[1:]\n"
     ]
    },
    {
     "name": "stdout",
     "output_type": "stream",
     "text": [
      "OPTICS Clustering:_NEET_vs_nocentralheat_rate\n"
     ]
    },
    {
     "name": "stderr",
     "output_type": "stream",
     "text": [
      "c:\\Python311\\Lib\\site-packages\\sklearn\\cluster\\_optics.py:995: RuntimeWarning: divide by zero encountered in divide\n",
      "  ratio = reachability_plot[:-1] / reachability_plot[1:]\n"
     ]
    },
    {
     "name": "stdout",
     "output_type": "stream",
     "text": [
      "OPTICS Clustering:_NEET_vs_year\n"
     ]
    },
    {
     "name": "stderr",
     "output_type": "stream",
     "text": [
      "c:\\Python311\\Lib\\site-packages\\sklearn\\cluster\\_optics.py:995: RuntimeWarning: divide by zero encountered in divide\n",
      "  ratio = reachability_plot[:-1] / reachability_plot[1:]\n"
     ]
    },
    {
     "name": "stdout",
     "output_type": "stream",
     "text": [
      "OPTICS Clustering:_drive_petrol_vs_drive_GP\n",
      "OPTICS Clustering:_drive_petrol_vs_drive_PO\n",
      "OPTICS Clustering:_drive_petrol_vs_drive_primary\n",
      "OPTICS Clustering:_drive_petrol_vs_drive_retail\n",
      "OPTICS Clustering:_drive_petrol_vs_drive_secondary\n",
      "OPTICS Clustering:_drive_petrol_vs_PT_GP\n",
      "OPTICS Clustering:_drive_petrol_vs_PT_Post\n",
      "OPTICS Clustering:_drive_petrol_vs_PT_retail\n",
      "OPTICS Clustering:_drive_petrol_vs_overcrowded_count\n",
      "OPTICS Clustering:_drive_petrol_vs_nocentralheat_count\n",
      "OPTICS Clustering:_drive_petrol_vs_overcrowded_rate\n",
      "OPTICS Clustering:_drive_petrol_vs_nocentralheat_rate\n",
      "OPTICS Clustering:_drive_petrol_vs_year\n",
      "OPTICS Clustering:_drive_GP_vs_drive_PO\n",
      "OPTICS Clustering:_drive_GP_vs_drive_primary\n",
      "OPTICS Clustering:_drive_GP_vs_drive_retail\n",
      "OPTICS Clustering:_drive_GP_vs_drive_secondary\n",
      "OPTICS Clustering:_drive_GP_vs_PT_GP\n",
      "OPTICS Clustering:_drive_GP_vs_PT_Post\n",
      "OPTICS Clustering:_drive_GP_vs_PT_retail\n",
      "OPTICS Clustering:_drive_GP_vs_overcrowded_count\n",
      "OPTICS Clustering:_drive_GP_vs_nocentralheat_count\n",
      "OPTICS Clustering:_drive_GP_vs_overcrowded_rate\n",
      "OPTICS Clustering:_drive_GP_vs_nocentralheat_rate\n",
      "OPTICS Clustering:_drive_GP_vs_year\n",
      "OPTICS Clustering:_drive_PO_vs_drive_primary\n",
      "OPTICS Clustering:_drive_PO_vs_drive_retail\n",
      "OPTICS Clustering:_drive_PO_vs_drive_secondary\n",
      "OPTICS Clustering:_drive_PO_vs_PT_GP\n",
      "OPTICS Clustering:_drive_PO_vs_PT_Post\n",
      "OPTICS Clustering:_drive_PO_vs_PT_retail\n",
      "OPTICS Clustering:_drive_PO_vs_overcrowded_count\n",
      "OPTICS Clustering:_drive_PO_vs_nocentralheat_count\n",
      "OPTICS Clustering:_drive_PO_vs_overcrowded_rate\n",
      "OPTICS Clustering:_drive_PO_vs_nocentralheat_rate\n",
      "OPTICS Clustering:_drive_PO_vs_year\n",
      "OPTICS Clustering:_drive_primary_vs_drive_retail\n",
      "OPTICS Clustering:_drive_primary_vs_drive_secondary\n",
      "OPTICS Clustering:_drive_primary_vs_PT_GP\n",
      "OPTICS Clustering:_drive_primary_vs_PT_Post\n",
      "OPTICS Clustering:_drive_primary_vs_PT_retail\n",
      "OPTICS Clustering:_drive_primary_vs_overcrowded_count\n",
      "OPTICS Clustering:_drive_primary_vs_nocentralheat_count\n",
      "OPTICS Clustering:_drive_primary_vs_overcrowded_rate\n",
      "OPTICS Clustering:_drive_primary_vs_nocentralheat_rate\n",
      "OPTICS Clustering:_drive_primary_vs_year\n",
      "OPTICS Clustering:_drive_retail_vs_drive_secondary\n",
      "OPTICS Clustering:_drive_retail_vs_PT_GP\n",
      "OPTICS Clustering:_drive_retail_vs_PT_Post\n",
      "OPTICS Clustering:_drive_retail_vs_PT_retail\n",
      "OPTICS Clustering:_drive_retail_vs_overcrowded_count\n",
      "OPTICS Clustering:_drive_retail_vs_nocentralheat_count\n",
      "OPTICS Clustering:_drive_retail_vs_overcrowded_rate\n",
      "OPTICS Clustering:_drive_retail_vs_nocentralheat_rate\n",
      "OPTICS Clustering:_drive_retail_vs_year\n",
      "OPTICS Clustering:_drive_secondary_vs_PT_GP\n",
      "OPTICS Clustering:_drive_secondary_vs_PT_Post\n",
      "OPTICS Clustering:_drive_secondary_vs_PT_retail\n",
      "OPTICS Clustering:_drive_secondary_vs_overcrowded_count\n",
      "OPTICS Clustering:_drive_secondary_vs_nocentralheat_count\n",
      "OPTICS Clustering:_drive_secondary_vs_overcrowded_rate\n",
      "OPTICS Clustering:_drive_secondary_vs_nocentralheat_rate\n",
      "OPTICS Clustering:_drive_secondary_vs_year\n",
      "OPTICS Clustering:_PT_GP_vs_PT_Post\n",
      "OPTICS Clustering:_PT_GP_vs_PT_retail\n",
      "OPTICS Clustering:_PT_GP_vs_overcrowded_count\n",
      "OPTICS Clustering:_PT_GP_vs_nocentralheat_count\n",
      "OPTICS Clustering:_PT_GP_vs_overcrowded_rate\n",
      "OPTICS Clustering:_PT_GP_vs_nocentralheat_rate\n",
      "OPTICS Clustering:_PT_GP_vs_year\n",
      "OPTICS Clustering:_PT_Post_vs_PT_retail\n",
      "OPTICS Clustering:_PT_Post_vs_overcrowded_count\n",
      "OPTICS Clustering:_PT_Post_vs_nocentralheat_count\n",
      "OPTICS Clustering:_PT_Post_vs_overcrowded_rate\n",
      "OPTICS Clustering:_PT_Post_vs_nocentralheat_rate\n",
      "OPTICS Clustering:_PT_Post_vs_year\n",
      "OPTICS Clustering:_PT_retail_vs_overcrowded_count\n",
      "OPTICS Clustering:_PT_retail_vs_nocentralheat_count\n",
      "OPTICS Clustering:_PT_retail_vs_overcrowded_rate\n",
      "OPTICS Clustering:_PT_retail_vs_nocentralheat_rate\n",
      "OPTICS Clustering:_PT_retail_vs_year\n",
      "OPTICS Clustering:_overcrowded_count_vs_nocentralheat_count\n"
     ]
    },
    {
     "name": "stderr",
     "output_type": "stream",
     "text": [
      "c:\\Python311\\Lib\\site-packages\\sklearn\\cluster\\_optics.py:995: RuntimeWarning: divide by zero encountered in divide\n",
      "  ratio = reachability_plot[:-1] / reachability_plot[1:]\n"
     ]
    },
    {
     "name": "stdout",
     "output_type": "stream",
     "text": [
      "OPTICS Clustering:_overcrowded_count_vs_overcrowded_rate\n"
     ]
    },
    {
     "name": "stderr",
     "output_type": "stream",
     "text": [
      "c:\\Python311\\Lib\\site-packages\\sklearn\\cluster\\_optics.py:995: RuntimeWarning: divide by zero encountered in divide\n",
      "  ratio = reachability_plot[:-1] / reachability_plot[1:]\n"
     ]
    },
    {
     "name": "stdout",
     "output_type": "stream",
     "text": [
      "OPTICS Clustering:_overcrowded_count_vs_nocentralheat_rate\n"
     ]
    },
    {
     "name": "stderr",
     "output_type": "stream",
     "text": [
      "c:\\Python311\\Lib\\site-packages\\sklearn\\cluster\\_optics.py:995: RuntimeWarning: divide by zero encountered in divide\n",
      "  ratio = reachability_plot[:-1] / reachability_plot[1:]\n"
     ]
    },
    {
     "name": "stdout",
     "output_type": "stream",
     "text": [
      "OPTICS Clustering:_overcrowded_count_vs_year\n"
     ]
    },
    {
     "name": "stderr",
     "output_type": "stream",
     "text": [
      "c:\\Python311\\Lib\\site-packages\\sklearn\\cluster\\_optics.py:995: RuntimeWarning: divide by zero encountered in divide\n",
      "  ratio = reachability_plot[:-1] / reachability_plot[1:]\n"
     ]
    },
    {
     "name": "stdout",
     "output_type": "stream",
     "text": [
      "OPTICS Clustering:_nocentralheat_count_vs_overcrowded_rate\n"
     ]
    },
    {
     "name": "stderr",
     "output_type": "stream",
     "text": [
      "c:\\Python311\\Lib\\site-packages\\sklearn\\cluster\\_optics.py:995: RuntimeWarning: divide by zero encountered in divide\n",
      "  ratio = reachability_plot[:-1] / reachability_plot[1:]\n"
     ]
    },
    {
     "name": "stdout",
     "output_type": "stream",
     "text": [
      "OPTICS Clustering:_nocentralheat_count_vs_nocentralheat_rate\n"
     ]
    },
    {
     "name": "stderr",
     "output_type": "stream",
     "text": [
      "c:\\Python311\\Lib\\site-packages\\sklearn\\cluster\\_optics.py:995: RuntimeWarning: divide by zero encountered in divide\n",
      "  ratio = reachability_plot[:-1] / reachability_plot[1:]\n"
     ]
    },
    {
     "name": "stdout",
     "output_type": "stream",
     "text": [
      "OPTICS Clustering:_nocentralheat_count_vs_year\n"
     ]
    },
    {
     "name": "stderr",
     "output_type": "stream",
     "text": [
      "c:\\Python311\\Lib\\site-packages\\sklearn\\cluster\\_optics.py:995: RuntimeWarning: divide by zero encountered in divide\n",
      "  ratio = reachability_plot[:-1] / reachability_plot[1:]\n"
     ]
    },
    {
     "name": "stdout",
     "output_type": "stream",
     "text": [
      "OPTICS Clustering:_overcrowded_rate_vs_nocentralheat_rate\n"
     ]
    },
    {
     "name": "stderr",
     "output_type": "stream",
     "text": [
      "c:\\Python311\\Lib\\site-packages\\sklearn\\cluster\\_optics.py:995: RuntimeWarning: divide by zero encountered in divide\n",
      "  ratio = reachability_plot[:-1] / reachability_plot[1:]\n"
     ]
    },
    {
     "name": "stdout",
     "output_type": "stream",
     "text": [
      "OPTICS Clustering:_overcrowded_rate_vs_year\n"
     ]
    },
    {
     "name": "stderr",
     "output_type": "stream",
     "text": [
      "c:\\Python311\\Lib\\site-packages\\sklearn\\cluster\\_optics.py:995: RuntimeWarning: divide by zero encountered in divide\n",
      "  ratio = reachability_plot[:-1] / reachability_plot[1:]\n"
     ]
    },
    {
     "name": "stdout",
     "output_type": "stream",
     "text": [
      "OPTICS Clustering:_nocentralheat_rate_vs_year\n"
     ]
    },
    {
     "name": "stderr",
     "output_type": "stream",
     "text": [
      "c:\\Python311\\Lib\\site-packages\\sklearn\\cluster\\_optics.py:995: RuntimeWarning: divide by zero encountered in divide\n",
      "  ratio = reachability_plot[:-1] / reachability_plot[1:]\n"
     ]
    }
   ],
   "source": [
    "from sklearn.cluster import OPTICS\n",
    "\n",
    "for label1, label2 in label_pairs:\n",
    "    try:\n",
    "        data=combined_simd_result.copy()\n",
    "        name='OPTICS Clustering:_'+ label1 +'_vs_' + label2\n",
    "        print(name)\n",
    "        X= data.copy()\n",
    "        X = X[[label1, label2]]\n",
    "        X=X.dropna()\n",
    "        \n",
    "        # Use OPTICS instead of BIRCH\n",
    "        optics = OPTICS(min_samples=15, xi=0.25).fit(X)\n",
    "        labels = optics.labels_\n",
    "        \n",
    "        X['label'] = labels\n",
    "\n",
    "        # Convert labels to string\n",
    "        X['label'] = X['label'].astype(str)\n",
    "\n",
    "        # Calculate the percentage of data that is noise\n",
    "        noise_percent = (X['label'] == '-1').mean() * 100\n",
    "\n",
    "        #Do not show noise\n",
    "        X=X[X['label']!='-1']\n",
    "\n",
    "        # Create a ColumnDataSource from df: source\n",
    "        source = ColumnDataSource(X)\n",
    "\n",
    "        # Create a palette with 'black' for noise and the rest of the colors for clusters\n",
    "        palette = ['black'] + list(Category20[20])\n",
    "\n",
    "        # Create a CategoricalColorMapper from the 'label' column: color_mapper\n",
    "        color_mapper = CategoricalColorMapper(factors=X['label'].unique().tolist(), palette=palette)\n",
    "\n",
    "        # Create a figure with the \"box_select\" tool: p\n",
    "        p = figure(x_axis_label=label1, y_axis_label=label2, tools='box_select')\n",
    "\n",
    "        # Add a circle glyph to the figure p\n",
    "        p.circle(x=label1, y=label2, source=source,\n",
    "                 color=dict(field='label', transform=color_mapper),\n",
    "                 legend_field='label')\n",
    "\n",
    "        # Create_html_file() \n",
    "        output_file(filename=\"./OPTICS_Clustering_Output/\"+label1+'_'+label2+'.html')\n",
    "\n",
    "       \n",
    "        # Create a Div widget with the noise percentage\n",
    "        div = Div(text=f\"<strong>Noise Percentage:</strong> {noise_percent:.2f}%\", width=200, height=100)\n",
    "\n",
    "        # Combine the plot and Div widget into a single layout\n",
    "        layout = column(p, div)\n",
    "\n",
    "        # Display the layout\n",
    "        show(layout)\n",
    "    except Exception as e:\n",
    "        print(\"Errors with labels :\", label1, label2, \"Error message:\", str(e))\n",
    "        break\n"
   ]
  },
  {
   "cell_type": "code",
   "execution_count": null,
   "metadata": {},
   "outputs": [],
   "source": []
  }
 ],
 "metadata": {
  "kernelspec": {
   "display_name": "Python 3",
   "language": "python",
   "name": "python3"
  },
  "language_info": {
   "codemirror_mode": {
    "name": "ipython",
    "version": 3
   },
   "file_extension": ".py",
   "mimetype": "text/x-python",
   "name": "python",
   "nbconvert_exporter": "python",
   "pygments_lexer": "ipython3",
   "version": "3.10.7"
  },
  "orig_nbformat": 4
 },
 "nbformat": 4,
 "nbformat_minor": 2
}
